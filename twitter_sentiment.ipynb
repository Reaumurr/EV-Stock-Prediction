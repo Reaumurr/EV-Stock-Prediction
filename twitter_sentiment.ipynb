{
  "cells": [
    {
      "cell_type": "markdown",
      "metadata": {},
      "source": [
        "=====================================================================================================================\n",
        "# **Tesla News Sentiment Stock Prediction**\n",
        "\n",
        "This program is built on Tesla's sentiment analysis algorithm, our application extracts valuable insights from news articles related to Tesla, a leading player in the EV industry. The goal is to predict whether sentiment is negative, positive, or neutral.\n",
        "\n",
        "=====================================================================================================================\n"
      ]
    },
    {
      "cell_type": "markdown",
      "metadata": {},
      "source": [
        "# 1. Import Libraries"
      ]
    },
    {
      "cell_type": "code",
      "execution_count": 1,
      "metadata": {
        "colab": {
          "base_uri": "https://localhost:8080/"
        },
        "id": "B05QRyhpTINq",
        "outputId": "53791d18-d3d8-4d97-b397-14c33341b5df"
      },
      "outputs": [
        {
          "name": "stderr",
          "output_type": "stream",
          "text": [
            "[nltk_data] Downloading package stopwords to\n",
            "[nltk_data]     C:\\Users\\reski\\AppData\\Roaming\\nltk_data...\n",
            "[nltk_data]   Package stopwords is already up-to-date!\n",
            "[nltk_data] Downloading package punkt to\n",
            "[nltk_data]     C:\\Users\\reski\\AppData\\Roaming\\nltk_data...\n",
            "[nltk_data]   Package punkt is already up-to-date!\n"
          ]
        },
        {
          "data": {
            "text/plain": [
              "True"
            ]
          },
          "execution_count": 1,
          "metadata": {},
          "output_type": "execute_result"
        }
      ],
      "source": [
        "# Import Libraries\n",
        "\n",
        "import nltk\n",
        "import numpy as np\n",
        "import pandas as pd\n",
        "import seaborn as sns\n",
        "import matplotlib.pyplot as plt\n",
        "\n",
        "import tensorflow as tf\n",
        "from tensorflow.keras.utils import to_categorical\n",
        "\n",
        "from sklearn.model_selection import train_test_split\n",
        "from sklearn.feature_extraction.text import CountVectorizer\n",
        "\n",
        "import nltk\n",
        "from nltk.sentiment.vader import SentimentIntensityAnalyzer\n",
        "\n",
        "from nltk.tokenize import word_tokenize\n",
        "from nltk.corpus import stopwords\n",
        "from nltk.stem import WordNetLemmatizer\n",
        "\n",
        "import re\n",
        "import string\n",
        "\n",
        "nltk.download('stopwords')\n",
        "nltk.download('punkt')"
      ]
    },
    {
      "cell_type": "markdown",
      "metadata": {},
      "source": [
        "# 2. Data Loading"
      ]
    },
    {
      "cell_type": "code",
      "execution_count": 2,
      "metadata": {
        "colab": {
          "base_uri": "https://localhost:8080/",
          "height": 423
        },
        "id": "dB6L2BpATINv",
        "outputId": "d65ede5f-181f-446e-9b49-180e43ef8715"
      },
      "outputs": [
        {
          "data": {
            "text/html": [
              "<div>\n",
              "<style scoped>\n",
              "    .dataframe tbody tr th:only-of-type {\n",
              "        vertical-align: middle;\n",
              "    }\n",
              "\n",
              "    .dataframe tbody tr th {\n",
              "        vertical-align: top;\n",
              "    }\n",
              "\n",
              "    .dataframe thead th {\n",
              "        text-align: right;\n",
              "    }\n",
              "</style>\n",
              "<table border=\"1\" class=\"dataframe\">\n",
              "  <thead>\n",
              "    <tr style=\"text-align: right;\">\n",
              "      <th></th>\n",
              "      <th>Unnamed: 0</th>\n",
              "      <th>Date</th>\n",
              "      <th>Tweet</th>\n",
              "    </tr>\n",
              "  </thead>\n",
              "  <tbody>\n",
              "    <tr>\n",
              "      <th>0</th>\n",
              "      <td>0</td>\n",
              "      <td>2023-04-10 01:00:00+00:00</td>\n",
              "      <td>Tesla to open a new Megafactory in Shanghai, C...</td>\n",
              "    </tr>\n",
              "    <tr>\n",
              "      <th>1</th>\n",
              "      <td>1</td>\n",
              "      <td>2023-04-10 00:06:05+00:00</td>\n",
              "      <td>#5things: China holds military drills around T...</td>\n",
              "    </tr>\n",
              "    <tr>\n",
              "      <th>2</th>\n",
              "      <td>2</td>\n",
              "      <td>2023-04-09 22:10:00+00:00</td>\n",
              "      <td>WATCH: Tesla Chief Executive Elon Musk is maki...</td>\n",
              "    </tr>\n",
              "    <tr>\n",
              "      <th>3</th>\n",
              "      <td>3</td>\n",
              "      <td>2023-04-09 21:41:02+00:00</td>\n",
              "      <td>Tesla’s Model S and X are starting to show the...</td>\n",
              "    </tr>\n",
              "    <tr>\n",
              "      <th>4</th>\n",
              "      <td>4</td>\n",
              "      <td>2023-04-09 20:00:00+00:00</td>\n",
              "      <td>How the market’s biggest companies, from Apple...</td>\n",
              "    </tr>\n",
              "    <tr>\n",
              "      <th>...</th>\n",
              "      <td>...</td>\n",
              "      <td>...</td>\n",
              "      <td>...</td>\n",
              "    </tr>\n",
              "    <tr>\n",
              "      <th>22343</th>\n",
              "      <td>22343</td>\n",
              "      <td>2010-02-17 20:33:03+00:00</td>\n",
              "      <td>Plane owned by Tesla engineer crashes, 3 dead ...</td>\n",
              "    </tr>\n",
              "    <tr>\n",
              "      <th>22344</th>\n",
              "      <td>22344</td>\n",
              "      <td>2010-02-17 20:24:10+00:00</td>\n",
              "      <td>Plane owned by Tesla engineer crashes, 3 dead ...</td>\n",
              "    </tr>\n",
              "    <tr>\n",
              "      <th>22345</th>\n",
              "      <td>22345</td>\n",
              "      <td>2010-01-14 14:09:21+00:00</td>\n",
              "      <td>Move over, Thomas Edison. Nikola Tesla, pionee...</td>\n",
              "    </tr>\n",
              "    <tr>\n",
              "      <th>22346</th>\n",
              "      <td>22346</td>\n",
              "      <td>2009-09-15 17:45:37+00:00</td>\n",
              "      <td>Bloomberg News: Electric Sports-Car Maker Tesl...</td>\n",
              "    </tr>\n",
              "    <tr>\n",
              "      <th>22347</th>\n",
              "      <td>22347</td>\n",
              "      <td>2008-07-08 18:16:24+00:00</td>\n",
              "      <td>Tesla Taps Chrysler Executive http://tinyurl.c...</td>\n",
              "    </tr>\n",
              "  </tbody>\n",
              "</table>\n",
              "<p>22348 rows × 3 columns</p>\n",
              "</div>"
            ],
            "text/plain": [
              "       Unnamed: 0                       Date  \\\n",
              "0               0  2023-04-10 01:00:00+00:00   \n",
              "1               1  2023-04-10 00:06:05+00:00   \n",
              "2               2  2023-04-09 22:10:00+00:00   \n",
              "3               3  2023-04-09 21:41:02+00:00   \n",
              "4               4  2023-04-09 20:00:00+00:00   \n",
              "...           ...                        ...   \n",
              "22343       22343  2010-02-17 20:33:03+00:00   \n",
              "22344       22344  2010-02-17 20:24:10+00:00   \n",
              "22345       22345  2010-01-14 14:09:21+00:00   \n",
              "22346       22346  2009-09-15 17:45:37+00:00   \n",
              "22347       22347  2008-07-08 18:16:24+00:00   \n",
              "\n",
              "                                                   Tweet  \n",
              "0      Tesla to open a new Megafactory in Shanghai, C...  \n",
              "1      #5things: China holds military drills around T...  \n",
              "2      WATCH: Tesla Chief Executive Elon Musk is maki...  \n",
              "3      Tesla’s Model S and X are starting to show the...  \n",
              "4      How the market’s biggest companies, from Apple...  \n",
              "...                                                  ...  \n",
              "22343  Plane owned by Tesla engineer crashes, 3 dead ...  \n",
              "22344  Plane owned by Tesla engineer crashes, 3 dead ...  \n",
              "22345  Move over, Thomas Edison. Nikola Tesla, pionee...  \n",
              "22346  Bloomberg News: Electric Sports-Car Maker Tesl...  \n",
              "22347  Tesla Taps Chrysler Executive http://tinyurl.c...  \n",
              "\n",
              "[22348 rows x 3 columns]"
            ]
          },
          "execution_count": 2,
          "metadata": {},
          "output_type": "execute_result"
        }
      ],
      "source": [
        "# Data Loading\n",
        "\n",
        "data = pd.read_csv('tweets.csv')\n",
        "data"
      ]
    },
    {
      "cell_type": "code",
      "execution_count": 3,
      "metadata": {},
      "outputs": [
        {
          "name": "stdout",
          "output_type": "stream",
          "text": [
            "<class 'pandas.core.frame.DataFrame'>\n",
            "RangeIndex: 22348 entries, 0 to 22347\n",
            "Data columns (total 3 columns):\n",
            " #   Column      Non-Null Count  Dtype \n",
            "---  ------      --------------  ----- \n",
            " 0   Unnamed: 0  22348 non-null  int64 \n",
            " 1   Date        22348 non-null  object\n",
            " 2   Tweet       22348 non-null  object\n",
            "dtypes: int64(1), object(2)\n",
            "memory usage: 523.9+ KB\n"
          ]
        }
      ],
      "source": [
        "data.info()"
      ]
    },
    {
      "cell_type": "markdown",
      "metadata": {},
      "source": [
        "# 3. Feature Engineering"
      ]
    },
    {
      "cell_type": "code",
      "execution_count": 5,
      "metadata": {
        "id": "KLjvjiPPTINx"
      },
      "outputs": [],
      "source": [
        "data.drop(['Unnamed: 0'], axis=1, inplace=True)"
      ]
    },
    {
      "cell_type": "markdown",
      "metadata": {},
      "source": [
        "We drop the `Unnamed: 0` column because this columns is the index of dataset"
      ]
    },
    {
      "cell_type": "code",
      "execution_count": 6,
      "metadata": {
        "id": "bxebHRCvTINx"
      },
      "outputs": [],
      "source": [
        "data['Date'] = pd.to_datetime(data['Date'])\n",
        "data['Date'] = data['Date'].dt.date"
      ]
    },
    {
      "cell_type": "markdown",
      "metadata": {},
      "source": [
        "We change the type of `Date` column from object to date"
      ]
    },
    {
      "cell_type": "code",
      "execution_count": 6,
      "metadata": {
        "colab": {
          "base_uri": "https://localhost:8080/"
        },
        "id": "c9MmeOxiTINz",
        "outputId": "bbaae031-4acc-496a-bf7f-60a809758ca5"
      },
      "outputs": [
        {
          "data": {
            "text/plain": [
              "(22348, 2)"
            ]
          },
          "execution_count": 6,
          "metadata": {},
          "output_type": "execute_result"
        }
      ],
      "source": [
        "data.shape"
      ]
    },
    {
      "cell_type": "markdown",
      "metadata": {},
      "source": [
        "We have 22348 rows and 2 columns"
      ]
    },
    {
      "cell_type": "code",
      "execution_count": 8,
      "metadata": {
        "colab": {
          "base_uri": "https://localhost:8080/",
          "height": 143
        },
        "id": "4vqCl0OtTINz",
        "outputId": "51fcaa04-de70-4a6f-df00-a125ccc6d79f"
      },
      "outputs": [
        {
          "data": {
            "text/html": [
              "<div>\n",
              "<style scoped>\n",
              "    .dataframe tbody tr th:only-of-type {\n",
              "        vertical-align: middle;\n",
              "    }\n",
              "\n",
              "    .dataframe tbody tr th {\n",
              "        vertical-align: top;\n",
              "    }\n",
              "\n",
              "    .dataframe thead th {\n",
              "        text-align: right;\n",
              "    }\n",
              "</style>\n",
              "<table border=\"1\" class=\"dataframe\">\n",
              "  <thead>\n",
              "    <tr style=\"text-align: right;\">\n",
              "      <th></th>\n",
              "      <th>Date</th>\n",
              "      <th>Tweet</th>\n",
              "    </tr>\n",
              "  </thead>\n",
              "  <tbody>\n",
              "    <tr>\n",
              "      <th>0</th>\n",
              "      <td>2023-04-10</td>\n",
              "      <td>Tesla to open a new Megafactory in Shanghai, C...</td>\n",
              "    </tr>\n",
              "    <tr>\n",
              "      <th>1</th>\n",
              "      <td>2023-04-10</td>\n",
              "      <td>#5things: China holds military drills around T...</td>\n",
              "    </tr>\n",
              "    <tr>\n",
              "      <th>2</th>\n",
              "      <td>2023-04-09</td>\n",
              "      <td>WATCH: Tesla Chief Executive Elon Musk is maki...</td>\n",
              "    </tr>\n",
              "    <tr>\n",
              "      <th>3</th>\n",
              "      <td>2023-04-09</td>\n",
              "      <td>Tesla’s Model S and X are starting to show the...</td>\n",
              "    </tr>\n",
              "    <tr>\n",
              "      <th>4</th>\n",
              "      <td>2023-04-09</td>\n",
              "      <td>How the market’s biggest companies, from Apple...</td>\n",
              "    </tr>\n",
              "  </tbody>\n",
              "</table>\n",
              "</div>"
            ],
            "text/plain": [
              "         Date                                              Tweet\n",
              "0  2023-04-10  Tesla to open a new Megafactory in Shanghai, C...\n",
              "1  2023-04-10  #5things: China holds military drills around T...\n",
              "2  2023-04-09  WATCH: Tesla Chief Executive Elon Musk is maki...\n",
              "3  2023-04-09  Tesla’s Model S and X are starting to show the...\n",
              "4  2023-04-09  How the market’s biggest companies, from Apple..."
            ]
          },
          "execution_count": 8,
          "metadata": {},
          "output_type": "execute_result"
        }
      ],
      "source": [
        "data.head()"
      ]
    },
    {
      "cell_type": "code",
      "execution_count": 9,
      "metadata": {
        "colab": {
          "base_uri": "https://localhost:8080/"
        },
        "id": "kg0pbki7TIN0",
        "outputId": "e7e84a6e-8fc8-4845-c701-65a72f118861"
      },
      "outputs": [
        {
          "data": {
            "text/plain": [
              "Date     False\n",
              "Tweet    False\n",
              "dtype: bool"
            ]
          },
          "execution_count": 9,
          "metadata": {},
          "output_type": "execute_result"
        }
      ],
      "source": [
        "data.isna().any()"
      ]
    },
    {
      "cell_type": "markdown",
      "metadata": {},
      "source": [
        "No missing value from the dataset"
      ]
    },
    {
      "cell_type": "code",
      "execution_count": 9,
      "metadata": {
        "colab": {
          "base_uri": "https://localhost:8080/"
        },
        "id": "0POPejq9TIN0",
        "outputId": "462f3552-6eec-41fb-e2d4-c35ba12a3450"
      },
      "outputs": [
        {
          "data": {
            "text/plain": [
              "3"
            ]
          },
          "execution_count": 9,
          "metadata": {},
          "output_type": "execute_result"
        }
      ],
      "source": [
        "data.duplicated().sum()"
      ]
    },
    {
      "cell_type": "code",
      "execution_count": 10,
      "metadata": {
        "id": "A3VwMP0BTIN1"
      },
      "outputs": [],
      "source": [
        "data.drop_duplicates(inplace=True)"
      ]
    },
    {
      "cell_type": "markdown",
      "metadata": {},
      "source": [
        "We found 3 data duplicated from the dataset because the amount is too small we can drop it"
      ]
    },
    {
      "cell_type": "code",
      "execution_count": 12,
      "metadata": {
        "colab": {
          "base_uri": "https://localhost:8080/"
        },
        "id": "gHS8tLUwTIN3",
        "outputId": "9e598a17-2b25-4bca-9906-5233025ca34e"
      },
      "outputs": [
        {
          "name": "stderr",
          "output_type": "stream",
          "text": [
            "[nltk_data] Downloading package wordnet to /root/nltk_data...\n"
          ]
        },
        {
          "data": {
            "text/plain": [
              "True"
            ]
          },
          "execution_count": 12,
          "metadata": {},
          "output_type": "execute_result"
        }
      ],
      "source": [
        "nltk.download('wordnet')"
      ]
    },
    {
      "cell_type": "markdown",
      "metadata": {},
      "source": [
        "# 4. Data Preprocessing"
      ]
    },
    {
      "cell_type": "code",
      "execution_count": 13,
      "metadata": {
        "id": "bePgK0YeTIN3"
      },
      "outputs": [],
      "source": [
        "def text_preprocessing(text):\n",
        "    # Case folding\n",
        "    text = text.lower()\n",
        "\n",
        "    # Mention removal\n",
        "    text = re.sub(\"@[A-Za-z0-9_]+\", \" \", text)\n",
        "\n",
        "    # Hashtags removal\n",
        "    text = re.sub(\"#[\\w_]+\", \" \", text)\n",
        "\n",
        "    # Newline removal (\\n)\n",
        "    text = re.sub(r\"\\\\n\", \" \", text)\n",
        "\n",
        "    # Whitespace removal\n",
        "    text = text.strip()\n",
        "\n",
        "    # URL removal\n",
        "    text = re.sub(r\"(http|https)://[^\\s]+\", \"\", text)\n",
        "    text = re.sub(r\"(www\\.)[^\\s]+\", \"\", text)\n",
        "    text = re.sub(r\"(https?:\\/\\/[^\\s]+)\", \"\", text)\n",
        "\n",
        "    # Remove punctuation\n",
        "    text = text.translate(str.maketrans(\"\", \"\", string.punctuation))\n",
        "\n",
        "    # Remove extra whitespace characters\n",
        "    text = re.sub(r\"\\s+\", \" \", text)\n",
        "\n",
        "    # Non-letter removal (such as emoticon, symbol (like μ, $, 兀), etc)\n",
        "    text = re.sub(r\"[^\\w\\s]\", \" \", text)\n",
        "\n",
        "    # Tokenization\n",
        "    tokens = word_tokenize(text)\n",
        "\n",
        "    # Stopwords removal\n",
        "    stpwds_id = set(stopwords.words('english'))\n",
        "    tokens = [word for word in tokens if word not in stpwds_id]\n",
        "\n",
        "    # Lemmatization\n",
        "    lemmatizer = WordNetLemmatizer()\n",
        "    tokens = [lemmatizer.lemmatize(word) for word in tokens]\n",
        "\n",
        "    # Combining Tokens\n",
        "    text = ' '.join(tokens)\n",
        "\n",
        "    return text\n"
      ]
    },
    {
      "cell_type": "markdown",
      "metadata": {},
      "source": [
        "The text_preprocessing function is designed to clean and preprocess text data for natural language processing (NLP) tasks. Here is a step-by-step breakdown of what each part of the function does:\n",
        "\n",
        "- Converts all characters in the text to lowercase to ensure uniformity.\n",
        "- Removes mentions, which typically start with an @ symbol and are followed by alphanumeric characters and underscores.\n",
        "- Removes hashtags, which typically start with a # symbol.\n",
        "- Replaces newline characters with a space.\n",
        "- Removes leading and trailing whitespace.\n",
        "- Removes URLs that start with http, https, or www.\n",
        "- Removes all punctuation characters from the text.\n",
        "- Replaces multiple whitespace characters with a single space.\n",
        "- Removes non-letter characters, such as emoticons and symbols.\n",
        "- Splits the text into individual words (tokens).\n",
        "- Removes common English stopwords (e.g., \"and\", \"the\", \"is\") from the tokens.\n",
        "- Converts words to their base or dictionary form (lemmas).\n",
        "- Joins the tokens back into a single string.\n",
        "\n",
        "Summary:\n",
        "\n",
        "The text_preprocessing function performs several key text cleaning operations: converting to lowercase, removing mentions, hashtags, URLs, punctuation, extra whitespace, and non-letter characters. It then tokenizes the text, removes stopwords, performs lemmatization, and finally combines the tokens back into a cleaned text string. This preprocessing is essential for preparing text data for NLP tasks like text classification, sentiment analysis, and more."
      ]
    },
    {
      "cell_type": "code",
      "execution_count": 14,
      "metadata": {
        "colab": {
          "base_uri": "https://localhost:8080/",
          "height": 423
        },
        "id": "C0nf6S35TIN5",
        "outputId": "65efcc45-ddda-4d31-d1c7-2b8667ad1878"
      },
      "outputs": [
        {
          "data": {
            "application/vnd.google.colaboratory.intrinsic+json": {
              "summary": "{\n  \"name\": \"data\",\n  \"rows\": 22345,\n  \"fields\": [\n    {\n      \"column\": \"Date\",\n      \"properties\": {\n        \"dtype\": \"date\",\n        \"min\": \"2008-07-08\",\n        \"max\": \"2023-04-10\",\n        \"num_unique_values\": 2925,\n        \"samples\": [\n          \"2020-05-07\",\n          \"2016-05-13\",\n          \"2020-02-10\"\n        ],\n        \"semantic_type\": \"\",\n        \"description\": \"\"\n      }\n    },\n    {\n      \"column\": \"Tweet\",\n      \"properties\": {\n        \"dtype\": \"string\",\n        \"num_unique_values\": 22315,\n        \"samples\": [\n          \"Watch now: @ETFEdgeCNBC on Apple earnings preview, the retail ETF beating the market and fund manager with $4,000 Tesla target https://t.co/52i313fhUi\",\n          \"Baird's top stock picks for 2023 include Tesla and this favorite retailer https://t.co/aFSvJ3SaB0\",\n          \"Tesla customers have racked up 1 billion miles driven on Autopilot https://t.co/AdXgcP9Tpo\"\n        ],\n        \"semantic_type\": \"\",\n        \"description\": \"\"\n      }\n    },\n    {\n      \"column\": \"tweet_processed\",\n      \"properties\": {\n        \"dtype\": \"string\",\n        \"num_unique_values\": 16193,\n        \"samples\": [\n          \"binance world largest cryptocurrency exchange operator said would stop offering digital token tied stock like apple tesla regulator multiple country raised concern\",\n          \"elon musk immense wealth borrowing power tested share tesla sharply declined\",\n          \"cost insure tesla debt rise growing default fear\"\n        ],\n        \"semantic_type\": \"\",\n        \"description\": \"\"\n      }\n    }\n  ]\n}",
              "type": "dataframe",
              "variable_name": "data"
            },
            "text/html": [
              "\n",
              "  <div id=\"df-b646e9b0-7593-4d3a-b56e-a2fb9101a0ff\" class=\"colab-df-container\">\n",
              "    <div>\n",
              "<style scoped>\n",
              "    .dataframe tbody tr th:only-of-type {\n",
              "        vertical-align: middle;\n",
              "    }\n",
              "\n",
              "    .dataframe tbody tr th {\n",
              "        vertical-align: top;\n",
              "    }\n",
              "\n",
              "    .dataframe thead th {\n",
              "        text-align: right;\n",
              "    }\n",
              "</style>\n",
              "<table border=\"1\" class=\"dataframe\">\n",
              "  <thead>\n",
              "    <tr style=\"text-align: right;\">\n",
              "      <th></th>\n",
              "      <th>Date</th>\n",
              "      <th>Tweet</th>\n",
              "      <th>tweet_processed</th>\n",
              "    </tr>\n",
              "  </thead>\n",
              "  <tbody>\n",
              "    <tr>\n",
              "      <th>0</th>\n",
              "      <td>2023-04-10</td>\n",
              "      <td>Tesla to open a new Megafactory in Shanghai, C...</td>\n",
              "      <td>tesla open new megafactory shanghai china comp...</td>\n",
              "    </tr>\n",
              "    <tr>\n",
              "      <th>1</th>\n",
              "      <td>2023-04-10</td>\n",
              "      <td>#5things: China holds military drills around T...</td>\n",
              "      <td>china hold military drill around taiwan ftx co...</td>\n",
              "    </tr>\n",
              "    <tr>\n",
              "      <th>2</th>\n",
              "      <td>2023-04-09</td>\n",
              "      <td>WATCH: Tesla Chief Executive Elon Musk is maki...</td>\n",
              "      <td>watch tesla chief executive elon musk making p...</td>\n",
              "    </tr>\n",
              "    <tr>\n",
              "      <th>3</th>\n",
              "      <td>2023-04-09</td>\n",
              "      <td>Tesla’s Model S and X are starting to show the...</td>\n",
              "      <td>tesla model x starting show age</td>\n",
              "    </tr>\n",
              "    <tr>\n",
              "      <th>4</th>\n",
              "      <td>2023-04-09</td>\n",
              "      <td>How the market’s biggest companies, from Apple...</td>\n",
              "      <td>market biggest company apple tesla microsoft i...</td>\n",
              "    </tr>\n",
              "    <tr>\n",
              "      <th>...</th>\n",
              "      <td>...</td>\n",
              "      <td>...</td>\n",
              "      <td>...</td>\n",
              "    </tr>\n",
              "    <tr>\n",
              "      <th>22343</th>\n",
              "      <td>2010-02-17</td>\n",
              "      <td>Plane owned by Tesla engineer crashes, 3 dead ...</td>\n",
              "      <td>plane owned tesla engineer crash 3 dead</td>\n",
              "    </tr>\n",
              "    <tr>\n",
              "      <th>22344</th>\n",
              "      <td>2010-02-17</td>\n",
              "      <td>Plane owned by Tesla engineer crashes, 3 dead ...</td>\n",
              "      <td>plane owned tesla engineer crash 3 dead</td>\n",
              "    </tr>\n",
              "    <tr>\n",
              "      <th>22345</th>\n",
              "      <td>2010-01-14</td>\n",
              "      <td>Move over, Thomas Edison. Nikola Tesla, pionee...</td>\n",
              "      <td>move thomas edison nikola tesla pioneer altern...</td>\n",
              "    </tr>\n",
              "    <tr>\n",
              "      <th>22346</th>\n",
              "      <td>2009-09-15</td>\n",
              "      <td>Bloomberg News: Electric Sports-Car Maker Tesl...</td>\n",
              "      <td>bloomberg news electric sportscar maker tesla ...</td>\n",
              "    </tr>\n",
              "    <tr>\n",
              "      <th>22347</th>\n",
              "      <td>2008-07-08</td>\n",
              "      <td>Tesla Taps Chrysler Executive http://tinyurl.c...</td>\n",
              "      <td>tesla tap chrysler executive</td>\n",
              "    </tr>\n",
              "  </tbody>\n",
              "</table>\n",
              "<p>22345 rows × 3 columns</p>\n",
              "</div>\n",
              "    <div class=\"colab-df-buttons\">\n",
              "\n",
              "  <div class=\"colab-df-container\">\n",
              "    <button class=\"colab-df-convert\" onclick=\"convertToInteractive('df-b646e9b0-7593-4d3a-b56e-a2fb9101a0ff')\"\n",
              "            title=\"Convert this dataframe to an interactive table.\"\n",
              "            style=\"display:none;\">\n",
              "\n",
              "  <svg xmlns=\"http://www.w3.org/2000/svg\" height=\"24px\" viewBox=\"0 -960 960 960\">\n",
              "    <path d=\"M120-120v-720h720v720H120Zm60-500h600v-160H180v160Zm220 220h160v-160H400v160Zm0 220h160v-160H400v160ZM180-400h160v-160H180v160Zm440 0h160v-160H620v160ZM180-180h160v-160H180v160Zm440 0h160v-160H620v160Z\"/>\n",
              "  </svg>\n",
              "    </button>\n",
              "\n",
              "  <style>\n",
              "    .colab-df-container {\n",
              "      display:flex;\n",
              "      gap: 12px;\n",
              "    }\n",
              "\n",
              "    .colab-df-convert {\n",
              "      background-color: #E8F0FE;\n",
              "      border: none;\n",
              "      border-radius: 50%;\n",
              "      cursor: pointer;\n",
              "      display: none;\n",
              "      fill: #1967D2;\n",
              "      height: 32px;\n",
              "      padding: 0 0 0 0;\n",
              "      width: 32px;\n",
              "    }\n",
              "\n",
              "    .colab-df-convert:hover {\n",
              "      background-color: #E2EBFA;\n",
              "      box-shadow: 0px 1px 2px rgba(60, 64, 67, 0.3), 0px 1px 3px 1px rgba(60, 64, 67, 0.15);\n",
              "      fill: #174EA6;\n",
              "    }\n",
              "\n",
              "    .colab-df-buttons div {\n",
              "      margin-bottom: 4px;\n",
              "    }\n",
              "\n",
              "    [theme=dark] .colab-df-convert {\n",
              "      background-color: #3B4455;\n",
              "      fill: #D2E3FC;\n",
              "    }\n",
              "\n",
              "    [theme=dark] .colab-df-convert:hover {\n",
              "      background-color: #434B5C;\n",
              "      box-shadow: 0px 1px 3px 1px rgba(0, 0, 0, 0.15);\n",
              "      filter: drop-shadow(0px 1px 2px rgba(0, 0, 0, 0.3));\n",
              "      fill: #FFFFFF;\n",
              "    }\n",
              "  </style>\n",
              "\n",
              "    <script>\n",
              "      const buttonEl =\n",
              "        document.querySelector('#df-b646e9b0-7593-4d3a-b56e-a2fb9101a0ff button.colab-df-convert');\n",
              "      buttonEl.style.display =\n",
              "        google.colab.kernel.accessAllowed ? 'block' : 'none';\n",
              "\n",
              "      async function convertToInteractive(key) {\n",
              "        const element = document.querySelector('#df-b646e9b0-7593-4d3a-b56e-a2fb9101a0ff');\n",
              "        const dataTable =\n",
              "          await google.colab.kernel.invokeFunction('convertToInteractive',\n",
              "                                                    [key], {});\n",
              "        if (!dataTable) return;\n",
              "\n",
              "        const docLinkHtml = 'Like what you see? Visit the ' +\n",
              "          '<a target=\"_blank\" href=https://colab.research.google.com/notebooks/data_table.ipynb>data table notebook</a>'\n",
              "          + ' to learn more about interactive tables.';\n",
              "        element.innerHTML = '';\n",
              "        dataTable['output_type'] = 'display_data';\n",
              "        await google.colab.output.renderOutput(dataTable, element);\n",
              "        const docLink = document.createElement('div');\n",
              "        docLink.innerHTML = docLinkHtml;\n",
              "        element.appendChild(docLink);\n",
              "      }\n",
              "    </script>\n",
              "  </div>\n",
              "\n",
              "\n",
              "<div id=\"df-9ec74283-9dec-446b-be87-5b3f146ea4bf\">\n",
              "  <button class=\"colab-df-quickchart\" onclick=\"quickchart('df-9ec74283-9dec-446b-be87-5b3f146ea4bf')\"\n",
              "            title=\"Suggest charts\"\n",
              "            style=\"display:none;\">\n",
              "\n",
              "<svg xmlns=\"http://www.w3.org/2000/svg\" height=\"24px\"viewBox=\"0 0 24 24\"\n",
              "     width=\"24px\">\n",
              "    <g>\n",
              "        <path d=\"M19 3H5c-1.1 0-2 .9-2 2v14c0 1.1.9 2 2 2h14c1.1 0 2-.9 2-2V5c0-1.1-.9-2-2-2zM9 17H7v-7h2v7zm4 0h-2V7h2v10zm4 0h-2v-4h2v4z\"/>\n",
              "    </g>\n",
              "</svg>\n",
              "  </button>\n",
              "\n",
              "<style>\n",
              "  .colab-df-quickchart {\n",
              "      --bg-color: #E8F0FE;\n",
              "      --fill-color: #1967D2;\n",
              "      --hover-bg-color: #E2EBFA;\n",
              "      --hover-fill-color: #174EA6;\n",
              "      --disabled-fill-color: #AAA;\n",
              "      --disabled-bg-color: #DDD;\n",
              "  }\n",
              "\n",
              "  [theme=dark] .colab-df-quickchart {\n",
              "      --bg-color: #3B4455;\n",
              "      --fill-color: #D2E3FC;\n",
              "      --hover-bg-color: #434B5C;\n",
              "      --hover-fill-color: #FFFFFF;\n",
              "      --disabled-bg-color: #3B4455;\n",
              "      --disabled-fill-color: #666;\n",
              "  }\n",
              "\n",
              "  .colab-df-quickchart {\n",
              "    background-color: var(--bg-color);\n",
              "    border: none;\n",
              "    border-radius: 50%;\n",
              "    cursor: pointer;\n",
              "    display: none;\n",
              "    fill: var(--fill-color);\n",
              "    height: 32px;\n",
              "    padding: 0;\n",
              "    width: 32px;\n",
              "  }\n",
              "\n",
              "  .colab-df-quickchart:hover {\n",
              "    background-color: var(--hover-bg-color);\n",
              "    box-shadow: 0 1px 2px rgba(60, 64, 67, 0.3), 0 1px 3px 1px rgba(60, 64, 67, 0.15);\n",
              "    fill: var(--button-hover-fill-color);\n",
              "  }\n",
              "\n",
              "  .colab-df-quickchart-complete:disabled,\n",
              "  .colab-df-quickchart-complete:disabled:hover {\n",
              "    background-color: var(--disabled-bg-color);\n",
              "    fill: var(--disabled-fill-color);\n",
              "    box-shadow: none;\n",
              "  }\n",
              "\n",
              "  .colab-df-spinner {\n",
              "    border: 2px solid var(--fill-color);\n",
              "    border-color: transparent;\n",
              "    border-bottom-color: var(--fill-color);\n",
              "    animation:\n",
              "      spin 1s steps(1) infinite;\n",
              "  }\n",
              "\n",
              "  @keyframes spin {\n",
              "    0% {\n",
              "      border-color: transparent;\n",
              "      border-bottom-color: var(--fill-color);\n",
              "      border-left-color: var(--fill-color);\n",
              "    }\n",
              "    20% {\n",
              "      border-color: transparent;\n",
              "      border-left-color: var(--fill-color);\n",
              "      border-top-color: var(--fill-color);\n",
              "    }\n",
              "    30% {\n",
              "      border-color: transparent;\n",
              "      border-left-color: var(--fill-color);\n",
              "      border-top-color: var(--fill-color);\n",
              "      border-right-color: var(--fill-color);\n",
              "    }\n",
              "    40% {\n",
              "      border-color: transparent;\n",
              "      border-right-color: var(--fill-color);\n",
              "      border-top-color: var(--fill-color);\n",
              "    }\n",
              "    60% {\n",
              "      border-color: transparent;\n",
              "      border-right-color: var(--fill-color);\n",
              "    }\n",
              "    80% {\n",
              "      border-color: transparent;\n",
              "      border-right-color: var(--fill-color);\n",
              "      border-bottom-color: var(--fill-color);\n",
              "    }\n",
              "    90% {\n",
              "      border-color: transparent;\n",
              "      border-bottom-color: var(--fill-color);\n",
              "    }\n",
              "  }\n",
              "</style>\n",
              "\n",
              "  <script>\n",
              "    async function quickchart(key) {\n",
              "      const quickchartButtonEl =\n",
              "        document.querySelector('#' + key + ' button');\n",
              "      quickchartButtonEl.disabled = true;  // To prevent multiple clicks.\n",
              "      quickchartButtonEl.classList.add('colab-df-spinner');\n",
              "      try {\n",
              "        const charts = await google.colab.kernel.invokeFunction(\n",
              "            'suggestCharts', [key], {});\n",
              "      } catch (error) {\n",
              "        console.error('Error during call to suggestCharts:', error);\n",
              "      }\n",
              "      quickchartButtonEl.classList.remove('colab-df-spinner');\n",
              "      quickchartButtonEl.classList.add('colab-df-quickchart-complete');\n",
              "    }\n",
              "    (() => {\n",
              "      let quickchartButtonEl =\n",
              "        document.querySelector('#df-9ec74283-9dec-446b-be87-5b3f146ea4bf button');\n",
              "      quickchartButtonEl.style.display =\n",
              "        google.colab.kernel.accessAllowed ? 'block' : 'none';\n",
              "    })();\n",
              "  </script>\n",
              "</div>\n",
              "    </div>\n",
              "  </div>\n"
            ],
            "text/plain": [
              "             Date                                              Tweet  \\\n",
              "0      2023-04-10  Tesla to open a new Megafactory in Shanghai, C...   \n",
              "1      2023-04-10  #5things: China holds military drills around T...   \n",
              "2      2023-04-09  WATCH: Tesla Chief Executive Elon Musk is maki...   \n",
              "3      2023-04-09  Tesla’s Model S and X are starting to show the...   \n",
              "4      2023-04-09  How the market’s biggest companies, from Apple...   \n",
              "...           ...                                                ...   \n",
              "22343  2010-02-17  Plane owned by Tesla engineer crashes, 3 dead ...   \n",
              "22344  2010-02-17  Plane owned by Tesla engineer crashes, 3 dead ...   \n",
              "22345  2010-01-14  Move over, Thomas Edison. Nikola Tesla, pionee...   \n",
              "22346  2009-09-15  Bloomberg News: Electric Sports-Car Maker Tesl...   \n",
              "22347  2008-07-08  Tesla Taps Chrysler Executive http://tinyurl.c...   \n",
              "\n",
              "                                         tweet_processed  \n",
              "0      tesla open new megafactory shanghai china comp...  \n",
              "1      china hold military drill around taiwan ftx co...  \n",
              "2      watch tesla chief executive elon musk making p...  \n",
              "3                        tesla model x starting show age  \n",
              "4      market biggest company apple tesla microsoft i...  \n",
              "...                                                  ...  \n",
              "22343            plane owned tesla engineer crash 3 dead  \n",
              "22344            plane owned tesla engineer crash 3 dead  \n",
              "22345  move thomas edison nikola tesla pioneer altern...  \n",
              "22346  bloomberg news electric sportscar maker tesla ...  \n",
              "22347                       tesla tap chrysler executive  \n",
              "\n",
              "[22345 rows x 3 columns]"
            ]
          },
          "execution_count": 14,
          "metadata": {},
          "output_type": "execute_result"
        }
      ],
      "source": [
        "# Applying Text Preprocessing to the Dataset\n",
        "\n",
        "data['tweet_processed'] = data['Tweet'].apply(lambda x: text_preprocessing(x))\n",
        "data"
      ]
    },
    {
      "cell_type": "markdown",
      "metadata": {},
      "source": [
        "Applying text preprocessed to the dataset"
      ]
    },
    {
      "cell_type": "code",
      "execution_count": 15,
      "metadata": {
        "colab": {
          "base_uri": "https://localhost:8080/"
        },
        "id": "BQ3fb08dTIN5",
        "outputId": "85253ba5-82a8-48d4-e645-307130557c8a"
      },
      "outputs": [
        {
          "name": "stdout",
          "output_type": "stream",
          "text": [
            "<class 'pandas.core.frame.DataFrame'>\n",
            "Index: 22345 entries, 0 to 22347\n",
            "Data columns (total 3 columns):\n",
            " #   Column           Non-Null Count  Dtype \n",
            "---  ------           --------------  ----- \n",
            " 0   Date             22345 non-null  object\n",
            " 1   Tweet            22345 non-null  object\n",
            " 2   tweet_processed  22345 non-null  object\n",
            "dtypes: object(3)\n",
            "memory usage: 1.2+ MB\n"
          ]
        }
      ],
      "source": [
        "data.info()"
      ]
    },
    {
      "cell_type": "markdown",
      "metadata": {},
      "source": [
        "## 4.1 VADER Sentiment Analysis"
      ]
    },
    {
      "cell_type": "markdown",
      "metadata": {},
      "source": [
        "We utilizes the VADER (Valence Aware Dictionary and sEntiment Reasoner) sentiment analysis tool from the Natural Language Toolkit (nltk) to analyze the sentiment. Here's a step-by-step breakdown:\n",
        "\n",
        "- Downloads the VADER lexicon, which is required for sentiment analysis.\n",
        "- Initializes the SentimentIntensityAnalyzer object from the VADER lexicon, which will be used to analyze the sentiment of the tweets.\n",
        "- Uses the SentimentIntensityAnalyzer to compute the sentiment scores of the tweet. The polarity_scores method returns a dictionary with the following keys: `pos (positive)`, `neu (neutral)`, `neg (negative)`, and `compound (overall sentiment score)`.\n",
        "\n",
        "Determine Sentiment:\n",
        "- If the compound score is `greater than or equal to 0.05`, the sentiment is classified as `positive`.\n",
        "- If the compound score is `less than or equal to -0.05`, the sentiment is classified as `negative`.\n",
        "- Otherwise, the sentiment is classified as `neutral`.\n",
        "\n",
        "\n",
        "\n",
        "\n"
      ]
    },
    {
      "cell_type": "code",
      "execution_count": 16,
      "metadata": {
        "colab": {
          "base_uri": "https://localhost:8080/",
          "height": 442
        },
        "id": "3bsk5lRiTIN6",
        "outputId": "cc49abce-b067-4450-cbec-d58e0cda735a"
      },
      "outputs": [
        {
          "name": "stderr",
          "output_type": "stream",
          "text": [
            "[nltk_data] Downloading package vader_lexicon to /root/nltk_data...\n"
          ]
        },
        {
          "data": {
            "application/vnd.google.colaboratory.intrinsic+json": {
              "summary": "{\n  \"name\": \"data\",\n  \"rows\": 22345,\n  \"fields\": [\n    {\n      \"column\": \"Date\",\n      \"properties\": {\n        \"dtype\": \"date\",\n        \"min\": \"2008-07-08\",\n        \"max\": \"2023-04-10\",\n        \"num_unique_values\": 2925,\n        \"samples\": [\n          \"2020-05-07\",\n          \"2016-05-13\",\n          \"2020-02-10\"\n        ],\n        \"semantic_type\": \"\",\n        \"description\": \"\"\n      }\n    },\n    {\n      \"column\": \"Tweet\",\n      \"properties\": {\n        \"dtype\": \"string\",\n        \"num_unique_values\": 22315,\n        \"samples\": [\n          \"Watch now: @ETFEdgeCNBC on Apple earnings preview, the retail ETF beating the market and fund manager with $4,000 Tesla target https://t.co/52i313fhUi\",\n          \"Baird's top stock picks for 2023 include Tesla and this favorite retailer https://t.co/aFSvJ3SaB0\",\n          \"Tesla customers have racked up 1 billion miles driven on Autopilot https://t.co/AdXgcP9Tpo\"\n        ],\n        \"semantic_type\": \"\",\n        \"description\": \"\"\n      }\n    },\n    {\n      \"column\": \"tweet_processed\",\n      \"properties\": {\n        \"dtype\": \"string\",\n        \"num_unique_values\": 16193,\n        \"samples\": [\n          \"binance world largest cryptocurrency exchange operator said would stop offering digital token tied stock like apple tesla regulator multiple country raised concern\",\n          \"elon musk immense wealth borrowing power tested share tesla sharply declined\",\n          \"cost insure tesla debt rise growing default fear\"\n        ],\n        \"semantic_type\": \"\",\n        \"description\": \"\"\n      }\n    },\n    {\n      \"column\": \"sentiment\",\n      \"properties\": {\n        \"dtype\": \"category\",\n        \"num_unique_values\": 3,\n        \"samples\": [\n          \"neutral\",\n          \"negative\",\n          \"positive\"\n        ],\n        \"semantic_type\": \"\",\n        \"description\": \"\"\n      }\n    }\n  ]\n}",
              "type": "dataframe",
              "variable_name": "data"
            },
            "text/html": [
              "\n",
              "  <div id=\"df-b5bb4913-0d6a-4d46-bcfe-d887e69303f1\" class=\"colab-df-container\">\n",
              "    <div>\n",
              "<style scoped>\n",
              "    .dataframe tbody tr th:only-of-type {\n",
              "        vertical-align: middle;\n",
              "    }\n",
              "\n",
              "    .dataframe tbody tr th {\n",
              "        vertical-align: top;\n",
              "    }\n",
              "\n",
              "    .dataframe thead th {\n",
              "        text-align: right;\n",
              "    }\n",
              "</style>\n",
              "<table border=\"1\" class=\"dataframe\">\n",
              "  <thead>\n",
              "    <tr style=\"text-align: right;\">\n",
              "      <th></th>\n",
              "      <th>Date</th>\n",
              "      <th>Tweet</th>\n",
              "      <th>tweet_processed</th>\n",
              "      <th>sentiment</th>\n",
              "    </tr>\n",
              "  </thead>\n",
              "  <tbody>\n",
              "    <tr>\n",
              "      <th>0</th>\n",
              "      <td>2023-04-10</td>\n",
              "      <td>Tesla to open a new Megafactory in Shanghai, C...</td>\n",
              "      <td>tesla open new megafactory shanghai china comp...</td>\n",
              "      <td>neutral</td>\n",
              "    </tr>\n",
              "    <tr>\n",
              "      <th>1</th>\n",
              "      <td>2023-04-10</td>\n",
              "      <td>#5things: China holds military drills around T...</td>\n",
              "      <td>china hold military drill around taiwan ftx co...</td>\n",
              "      <td>negative</td>\n",
              "    </tr>\n",
              "    <tr>\n",
              "      <th>2</th>\n",
              "      <td>2023-04-09</td>\n",
              "      <td>WATCH: Tesla Chief Executive Elon Musk is maki...</td>\n",
              "      <td>watch tesla chief executive elon musk making p...</td>\n",
              "      <td>neutral</td>\n",
              "    </tr>\n",
              "    <tr>\n",
              "      <th>3</th>\n",
              "      <td>2023-04-09</td>\n",
              "      <td>Tesla’s Model S and X are starting to show the...</td>\n",
              "      <td>tesla model x starting show age</td>\n",
              "      <td>neutral</td>\n",
              "    </tr>\n",
              "    <tr>\n",
              "      <th>4</th>\n",
              "      <td>2023-04-09</td>\n",
              "      <td>How the market’s biggest companies, from Apple...</td>\n",
              "      <td>market biggest company apple tesla microsoft i...</td>\n",
              "      <td>neutral</td>\n",
              "    </tr>\n",
              "    <tr>\n",
              "      <th>...</th>\n",
              "      <td>...</td>\n",
              "      <td>...</td>\n",
              "      <td>...</td>\n",
              "      <td>...</td>\n",
              "    </tr>\n",
              "    <tr>\n",
              "      <th>22343</th>\n",
              "      <td>2010-02-17</td>\n",
              "      <td>Plane owned by Tesla engineer crashes, 3 dead ...</td>\n",
              "      <td>plane owned tesla engineer crash 3 dead</td>\n",
              "      <td>negative</td>\n",
              "    </tr>\n",
              "    <tr>\n",
              "      <th>22344</th>\n",
              "      <td>2010-02-17</td>\n",
              "      <td>Plane owned by Tesla engineer crashes, 3 dead ...</td>\n",
              "      <td>plane owned tesla engineer crash 3 dead</td>\n",
              "      <td>negative</td>\n",
              "    </tr>\n",
              "    <tr>\n",
              "      <th>22345</th>\n",
              "      <td>2010-01-14</td>\n",
              "      <td>Move over, Thomas Edison. Nikola Tesla, pionee...</td>\n",
              "      <td>move thomas edison nikola tesla pioneer altern...</td>\n",
              "      <td>positive</td>\n",
              "    </tr>\n",
              "    <tr>\n",
              "      <th>22346</th>\n",
              "      <td>2009-09-15</td>\n",
              "      <td>Bloomberg News: Electric Sports-Car Maker Tesl...</td>\n",
              "      <td>bloomberg news electric sportscar maker tesla ...</td>\n",
              "      <td>neutral</td>\n",
              "    </tr>\n",
              "    <tr>\n",
              "      <th>22347</th>\n",
              "      <td>2008-07-08</td>\n",
              "      <td>Tesla Taps Chrysler Executive http://tinyurl.c...</td>\n",
              "      <td>tesla tap chrysler executive</td>\n",
              "      <td>neutral</td>\n",
              "    </tr>\n",
              "  </tbody>\n",
              "</table>\n",
              "<p>22345 rows × 4 columns</p>\n",
              "</div>\n",
              "    <div class=\"colab-df-buttons\">\n",
              "\n",
              "  <div class=\"colab-df-container\">\n",
              "    <button class=\"colab-df-convert\" onclick=\"convertToInteractive('df-b5bb4913-0d6a-4d46-bcfe-d887e69303f1')\"\n",
              "            title=\"Convert this dataframe to an interactive table.\"\n",
              "            style=\"display:none;\">\n",
              "\n",
              "  <svg xmlns=\"http://www.w3.org/2000/svg\" height=\"24px\" viewBox=\"0 -960 960 960\">\n",
              "    <path d=\"M120-120v-720h720v720H120Zm60-500h600v-160H180v160Zm220 220h160v-160H400v160Zm0 220h160v-160H400v160ZM180-400h160v-160H180v160Zm440 0h160v-160H620v160ZM180-180h160v-160H180v160Zm440 0h160v-160H620v160Z\"/>\n",
              "  </svg>\n",
              "    </button>\n",
              "\n",
              "  <style>\n",
              "    .colab-df-container {\n",
              "      display:flex;\n",
              "      gap: 12px;\n",
              "    }\n",
              "\n",
              "    .colab-df-convert {\n",
              "      background-color: #E8F0FE;\n",
              "      border: none;\n",
              "      border-radius: 50%;\n",
              "      cursor: pointer;\n",
              "      display: none;\n",
              "      fill: #1967D2;\n",
              "      height: 32px;\n",
              "      padding: 0 0 0 0;\n",
              "      width: 32px;\n",
              "    }\n",
              "\n",
              "    .colab-df-convert:hover {\n",
              "      background-color: #E2EBFA;\n",
              "      box-shadow: 0px 1px 2px rgba(60, 64, 67, 0.3), 0px 1px 3px 1px rgba(60, 64, 67, 0.15);\n",
              "      fill: #174EA6;\n",
              "    }\n",
              "\n",
              "    .colab-df-buttons div {\n",
              "      margin-bottom: 4px;\n",
              "    }\n",
              "\n",
              "    [theme=dark] .colab-df-convert {\n",
              "      background-color: #3B4455;\n",
              "      fill: #D2E3FC;\n",
              "    }\n",
              "\n",
              "    [theme=dark] .colab-df-convert:hover {\n",
              "      background-color: #434B5C;\n",
              "      box-shadow: 0px 1px 3px 1px rgba(0, 0, 0, 0.15);\n",
              "      filter: drop-shadow(0px 1px 2px rgba(0, 0, 0, 0.3));\n",
              "      fill: #FFFFFF;\n",
              "    }\n",
              "  </style>\n",
              "\n",
              "    <script>\n",
              "      const buttonEl =\n",
              "        document.querySelector('#df-b5bb4913-0d6a-4d46-bcfe-d887e69303f1 button.colab-df-convert');\n",
              "      buttonEl.style.display =\n",
              "        google.colab.kernel.accessAllowed ? 'block' : 'none';\n",
              "\n",
              "      async function convertToInteractive(key) {\n",
              "        const element = document.querySelector('#df-b5bb4913-0d6a-4d46-bcfe-d887e69303f1');\n",
              "        const dataTable =\n",
              "          await google.colab.kernel.invokeFunction('convertToInteractive',\n",
              "                                                    [key], {});\n",
              "        if (!dataTable) return;\n",
              "\n",
              "        const docLinkHtml = 'Like what you see? Visit the ' +\n",
              "          '<a target=\"_blank\" href=https://colab.research.google.com/notebooks/data_table.ipynb>data table notebook</a>'\n",
              "          + ' to learn more about interactive tables.';\n",
              "        element.innerHTML = '';\n",
              "        dataTable['output_type'] = 'display_data';\n",
              "        await google.colab.output.renderOutput(dataTable, element);\n",
              "        const docLink = document.createElement('div');\n",
              "        docLink.innerHTML = docLinkHtml;\n",
              "        element.appendChild(docLink);\n",
              "      }\n",
              "    </script>\n",
              "  </div>\n",
              "\n",
              "\n",
              "<div id=\"df-35d18d78-412c-4bd7-8e69-0c20a08c03fe\">\n",
              "  <button class=\"colab-df-quickchart\" onclick=\"quickchart('df-35d18d78-412c-4bd7-8e69-0c20a08c03fe')\"\n",
              "            title=\"Suggest charts\"\n",
              "            style=\"display:none;\">\n",
              "\n",
              "<svg xmlns=\"http://www.w3.org/2000/svg\" height=\"24px\"viewBox=\"0 0 24 24\"\n",
              "     width=\"24px\">\n",
              "    <g>\n",
              "        <path d=\"M19 3H5c-1.1 0-2 .9-2 2v14c0 1.1.9 2 2 2h14c1.1 0 2-.9 2-2V5c0-1.1-.9-2-2-2zM9 17H7v-7h2v7zm4 0h-2V7h2v10zm4 0h-2v-4h2v4z\"/>\n",
              "    </g>\n",
              "</svg>\n",
              "  </button>\n",
              "\n",
              "<style>\n",
              "  .colab-df-quickchart {\n",
              "      --bg-color: #E8F0FE;\n",
              "      --fill-color: #1967D2;\n",
              "      --hover-bg-color: #E2EBFA;\n",
              "      --hover-fill-color: #174EA6;\n",
              "      --disabled-fill-color: #AAA;\n",
              "      --disabled-bg-color: #DDD;\n",
              "  }\n",
              "\n",
              "  [theme=dark] .colab-df-quickchart {\n",
              "      --bg-color: #3B4455;\n",
              "      --fill-color: #D2E3FC;\n",
              "      --hover-bg-color: #434B5C;\n",
              "      --hover-fill-color: #FFFFFF;\n",
              "      --disabled-bg-color: #3B4455;\n",
              "      --disabled-fill-color: #666;\n",
              "  }\n",
              "\n",
              "  .colab-df-quickchart {\n",
              "    background-color: var(--bg-color);\n",
              "    border: none;\n",
              "    border-radius: 50%;\n",
              "    cursor: pointer;\n",
              "    display: none;\n",
              "    fill: var(--fill-color);\n",
              "    height: 32px;\n",
              "    padding: 0;\n",
              "    width: 32px;\n",
              "  }\n",
              "\n",
              "  .colab-df-quickchart:hover {\n",
              "    background-color: var(--hover-bg-color);\n",
              "    box-shadow: 0 1px 2px rgba(60, 64, 67, 0.3), 0 1px 3px 1px rgba(60, 64, 67, 0.15);\n",
              "    fill: var(--button-hover-fill-color);\n",
              "  }\n",
              "\n",
              "  .colab-df-quickchart-complete:disabled,\n",
              "  .colab-df-quickchart-complete:disabled:hover {\n",
              "    background-color: var(--disabled-bg-color);\n",
              "    fill: var(--disabled-fill-color);\n",
              "    box-shadow: none;\n",
              "  }\n",
              "\n",
              "  .colab-df-spinner {\n",
              "    border: 2px solid var(--fill-color);\n",
              "    border-color: transparent;\n",
              "    border-bottom-color: var(--fill-color);\n",
              "    animation:\n",
              "      spin 1s steps(1) infinite;\n",
              "  }\n",
              "\n",
              "  @keyframes spin {\n",
              "    0% {\n",
              "      border-color: transparent;\n",
              "      border-bottom-color: var(--fill-color);\n",
              "      border-left-color: var(--fill-color);\n",
              "    }\n",
              "    20% {\n",
              "      border-color: transparent;\n",
              "      border-left-color: var(--fill-color);\n",
              "      border-top-color: var(--fill-color);\n",
              "    }\n",
              "    30% {\n",
              "      border-color: transparent;\n",
              "      border-left-color: var(--fill-color);\n",
              "      border-top-color: var(--fill-color);\n",
              "      border-right-color: var(--fill-color);\n",
              "    }\n",
              "    40% {\n",
              "      border-color: transparent;\n",
              "      border-right-color: var(--fill-color);\n",
              "      border-top-color: var(--fill-color);\n",
              "    }\n",
              "    60% {\n",
              "      border-color: transparent;\n",
              "      border-right-color: var(--fill-color);\n",
              "    }\n",
              "    80% {\n",
              "      border-color: transparent;\n",
              "      border-right-color: var(--fill-color);\n",
              "      border-bottom-color: var(--fill-color);\n",
              "    }\n",
              "    90% {\n",
              "      border-color: transparent;\n",
              "      border-bottom-color: var(--fill-color);\n",
              "    }\n",
              "  }\n",
              "</style>\n",
              "\n",
              "  <script>\n",
              "    async function quickchart(key) {\n",
              "      const quickchartButtonEl =\n",
              "        document.querySelector('#' + key + ' button');\n",
              "      quickchartButtonEl.disabled = true;  // To prevent multiple clicks.\n",
              "      quickchartButtonEl.classList.add('colab-df-spinner');\n",
              "      try {\n",
              "        const charts = await google.colab.kernel.invokeFunction(\n",
              "            'suggestCharts', [key], {});\n",
              "      } catch (error) {\n",
              "        console.error('Error during call to suggestCharts:', error);\n",
              "      }\n",
              "      quickchartButtonEl.classList.remove('colab-df-spinner');\n",
              "      quickchartButtonEl.classList.add('colab-df-quickchart-complete');\n",
              "    }\n",
              "    (() => {\n",
              "      let quickchartButtonEl =\n",
              "        document.querySelector('#df-35d18d78-412c-4bd7-8e69-0c20a08c03fe button');\n",
              "      quickchartButtonEl.style.display =\n",
              "        google.colab.kernel.accessAllowed ? 'block' : 'none';\n",
              "    })();\n",
              "  </script>\n",
              "</div>\n",
              "    </div>\n",
              "  </div>\n"
            ],
            "text/plain": [
              "             Date                                              Tweet  \\\n",
              "0      2023-04-10  Tesla to open a new Megafactory in Shanghai, C...   \n",
              "1      2023-04-10  #5things: China holds military drills around T...   \n",
              "2      2023-04-09  WATCH: Tesla Chief Executive Elon Musk is maki...   \n",
              "3      2023-04-09  Tesla’s Model S and X are starting to show the...   \n",
              "4      2023-04-09  How the market’s biggest companies, from Apple...   \n",
              "...           ...                                                ...   \n",
              "22343  2010-02-17  Plane owned by Tesla engineer crashes, 3 dead ...   \n",
              "22344  2010-02-17  Plane owned by Tesla engineer crashes, 3 dead ...   \n",
              "22345  2010-01-14  Move over, Thomas Edison. Nikola Tesla, pionee...   \n",
              "22346  2009-09-15  Bloomberg News: Electric Sports-Car Maker Tesl...   \n",
              "22347  2008-07-08  Tesla Taps Chrysler Executive http://tinyurl.c...   \n",
              "\n",
              "                                         tweet_processed sentiment  \n",
              "0      tesla open new megafactory shanghai china comp...   neutral  \n",
              "1      china hold military drill around taiwan ftx co...  negative  \n",
              "2      watch tesla chief executive elon musk making p...   neutral  \n",
              "3                        tesla model x starting show age   neutral  \n",
              "4      market biggest company apple tesla microsoft i...   neutral  \n",
              "...                                                  ...       ...  \n",
              "22343            plane owned tesla engineer crash 3 dead  negative  \n",
              "22344            plane owned tesla engineer crash 3 dead  negative  \n",
              "22345  move thomas edison nikola tesla pioneer altern...  positive  \n",
              "22346  bloomberg news electric sportscar maker tesla ...   neutral  \n",
              "22347                       tesla tap chrysler executive   neutral  \n",
              "\n",
              "[22345 rows x 4 columns]"
            ]
          },
          "execution_count": 16,
          "metadata": {},
          "output_type": "execute_result"
        }
      ],
      "source": [
        "# Mengunduh corpus VADER\n",
        "nltk.download('vader_lexicon')\n",
        "\n",
        "# Membuat objek SentimentIntensityAnalyzer\n",
        "sia = SentimentIntensityAnalyzer()\n",
        "\n",
        "# Fungsi untuk mendapatkan sentimen dari tweet\n",
        "def get_sentiment(tweet):\n",
        "    sentiment_score = sia.polarity_scores(tweet)\n",
        "    if sentiment_score['compound'] >= 0.05:\n",
        "        return 'positive'\n",
        "    elif sentiment_score['compound'] <= -0.05:\n",
        "        return 'negative'\n",
        "    else:\n",
        "        return 'neutral'\n",
        "\n",
        "# Menambahkan kolom 'Sentiment' ke DataFrame\n",
        "data['sentiment'] = data['tweet_processed'].apply(get_sentiment)\n",
        "\n",
        "data\n"
      ]
    },
    {
      "cell_type": "markdown",
      "metadata": {},
      "source": [
        "Applies the get_sentiment function to the tweet_processed column of the DataFrame data, and creates a new column named sentiment to store the sentiment of each tweet."
      ]
    },
    {
      "cell_type": "code",
      "execution_count": null,
      "metadata": {},
      "outputs": [],
      "source": [
        "data.to_csv('tweets_cleaned.csv', index=False)"
      ]
    },
    {
      "cell_type": "markdown",
      "metadata": {},
      "source": [
        "Save the dataframe into new CSV"
      ]
    },
    {
      "cell_type": "markdown",
      "metadata": {},
      "source": [
        "# 5. Feature Selection"
      ]
    },
    {
      "cell_type": "code",
      "execution_count": 17,
      "metadata": {
        "colab": {
          "base_uri": "https://localhost:8080/"
        },
        "id": "8ppZwSy6TIN7",
        "outputId": "8e1076df-9f25-4f8e-a238-d69fb4efc7fe"
      },
      "outputs": [
        {
          "data": {
            "text/plain": [
              "array(['neutral', 'negative', 'positive'], dtype=object)"
            ]
          },
          "execution_count": 17,
          "metadata": {},
          "output_type": "execute_result"
        }
      ],
      "source": [
        "# Display Target\n",
        "\n",
        "data.sentiment.unique()"
      ]
    },
    {
      "cell_type": "code",
      "execution_count": 18,
      "metadata": {
        "colab": {
          "base_uri": "https://localhost:8080/",
          "height": 423
        },
        "id": "4qtQvRBfTIN7",
        "outputId": "8d9b32eb-2ceb-4c4b-d883-3a8da29096d0"
      },
      "outputs": [
        {
          "data": {
            "application/vnd.google.colaboratory.intrinsic+json": {
              "summary": "{\n  \"name\": \"data\",\n  \"rows\": 22345,\n  \"fields\": [\n    {\n      \"column\": \"Date\",\n      \"properties\": {\n        \"dtype\": \"date\",\n        \"min\": \"2008-07-08\",\n        \"max\": \"2023-04-10\",\n        \"num_unique_values\": 2925,\n        \"samples\": [\n          \"2020-05-07\",\n          \"2016-05-13\",\n          \"2020-02-10\"\n        ],\n        \"semantic_type\": \"\",\n        \"description\": \"\"\n      }\n    },\n    {\n      \"column\": \"Tweet\",\n      \"properties\": {\n        \"dtype\": \"string\",\n        \"num_unique_values\": 22315,\n        \"samples\": [\n          \"Watch now: @ETFEdgeCNBC on Apple earnings preview, the retail ETF beating the market and fund manager with $4,000 Tesla target https://t.co/52i313fhUi\",\n          \"Baird's top stock picks for 2023 include Tesla and this favorite retailer https://t.co/aFSvJ3SaB0\",\n          \"Tesla customers have racked up 1 billion miles driven on Autopilot https://t.co/AdXgcP9Tpo\"\n        ],\n        \"semantic_type\": \"\",\n        \"description\": \"\"\n      }\n    },\n    {\n      \"column\": \"tweet_processed\",\n      \"properties\": {\n        \"dtype\": \"string\",\n        \"num_unique_values\": 16193,\n        \"samples\": [\n          \"binance world largest cryptocurrency exchange operator said would stop offering digital token tied stock like apple tesla regulator multiple country raised concern\",\n          \"elon musk immense wealth borrowing power tested share tesla sharply declined\",\n          \"cost insure tesla debt rise growing default fear\"\n        ],\n        \"semantic_type\": \"\",\n        \"description\": \"\"\n      }\n    },\n    {\n      \"column\": \"sentiment\",\n      \"properties\": {\n        \"dtype\": \"category\",\n        \"num_unique_values\": 3,\n        \"samples\": [\n          \"neutral\",\n          \"negative\",\n          \"positive\"\n        ],\n        \"semantic_type\": \"\",\n        \"description\": \"\"\n      }\n    },\n    {\n      \"column\": \"label\",\n      \"properties\": {\n        \"dtype\": \"number\",\n        \"std\": 0,\n        \"min\": 0,\n        \"max\": 2,\n        \"num_unique_values\": 3,\n        \"samples\": [\n          1,\n          0,\n          2\n        ],\n        \"semantic_type\": \"\",\n        \"description\": \"\"\n      }\n    }\n  ]\n}",
              "type": "dataframe",
              "variable_name": "data"
            },
            "text/html": [
              "\n",
              "  <div id=\"df-65cbd31a-16d8-46c6-ad3d-fcec593cf397\" class=\"colab-df-container\">\n",
              "    <div>\n",
              "<style scoped>\n",
              "    .dataframe tbody tr th:only-of-type {\n",
              "        vertical-align: middle;\n",
              "    }\n",
              "\n",
              "    .dataframe tbody tr th {\n",
              "        vertical-align: top;\n",
              "    }\n",
              "\n",
              "    .dataframe thead th {\n",
              "        text-align: right;\n",
              "    }\n",
              "</style>\n",
              "<table border=\"1\" class=\"dataframe\">\n",
              "  <thead>\n",
              "    <tr style=\"text-align: right;\">\n",
              "      <th></th>\n",
              "      <th>Date</th>\n",
              "      <th>Tweet</th>\n",
              "      <th>tweet_processed</th>\n",
              "      <th>sentiment</th>\n",
              "      <th>label</th>\n",
              "    </tr>\n",
              "  </thead>\n",
              "  <tbody>\n",
              "    <tr>\n",
              "      <th>0</th>\n",
              "      <td>2023-04-10</td>\n",
              "      <td>Tesla to open a new Megafactory in Shanghai, C...</td>\n",
              "      <td>tesla open new megafactory shanghai china comp...</td>\n",
              "      <td>neutral</td>\n",
              "      <td>1</td>\n",
              "    </tr>\n",
              "    <tr>\n",
              "      <th>1</th>\n",
              "      <td>2023-04-10</td>\n",
              "      <td>#5things: China holds military drills around T...</td>\n",
              "      <td>china hold military drill around taiwan ftx co...</td>\n",
              "      <td>negative</td>\n",
              "      <td>0</td>\n",
              "    </tr>\n",
              "    <tr>\n",
              "      <th>2</th>\n",
              "      <td>2023-04-09</td>\n",
              "      <td>WATCH: Tesla Chief Executive Elon Musk is maki...</td>\n",
              "      <td>watch tesla chief executive elon musk making p...</td>\n",
              "      <td>neutral</td>\n",
              "      <td>1</td>\n",
              "    </tr>\n",
              "    <tr>\n",
              "      <th>3</th>\n",
              "      <td>2023-04-09</td>\n",
              "      <td>Tesla’s Model S and X are starting to show the...</td>\n",
              "      <td>tesla model x starting show age</td>\n",
              "      <td>neutral</td>\n",
              "      <td>1</td>\n",
              "    </tr>\n",
              "    <tr>\n",
              "      <th>4</th>\n",
              "      <td>2023-04-09</td>\n",
              "      <td>How the market’s biggest companies, from Apple...</td>\n",
              "      <td>market biggest company apple tesla microsoft i...</td>\n",
              "      <td>neutral</td>\n",
              "      <td>1</td>\n",
              "    </tr>\n",
              "    <tr>\n",
              "      <th>...</th>\n",
              "      <td>...</td>\n",
              "      <td>...</td>\n",
              "      <td>...</td>\n",
              "      <td>...</td>\n",
              "      <td>...</td>\n",
              "    </tr>\n",
              "    <tr>\n",
              "      <th>22343</th>\n",
              "      <td>2010-02-17</td>\n",
              "      <td>Plane owned by Tesla engineer crashes, 3 dead ...</td>\n",
              "      <td>plane owned tesla engineer crash 3 dead</td>\n",
              "      <td>negative</td>\n",
              "      <td>0</td>\n",
              "    </tr>\n",
              "    <tr>\n",
              "      <th>22344</th>\n",
              "      <td>2010-02-17</td>\n",
              "      <td>Plane owned by Tesla engineer crashes, 3 dead ...</td>\n",
              "      <td>plane owned tesla engineer crash 3 dead</td>\n",
              "      <td>negative</td>\n",
              "      <td>0</td>\n",
              "    </tr>\n",
              "    <tr>\n",
              "      <th>22345</th>\n",
              "      <td>2010-01-14</td>\n",
              "      <td>Move over, Thomas Edison. Nikola Tesla, pionee...</td>\n",
              "      <td>move thomas edison nikola tesla pioneer altern...</td>\n",
              "      <td>positive</td>\n",
              "      <td>2</td>\n",
              "    </tr>\n",
              "    <tr>\n",
              "      <th>22346</th>\n",
              "      <td>2009-09-15</td>\n",
              "      <td>Bloomberg News: Electric Sports-Car Maker Tesl...</td>\n",
              "      <td>bloomberg news electric sportscar maker tesla ...</td>\n",
              "      <td>neutral</td>\n",
              "      <td>1</td>\n",
              "    </tr>\n",
              "    <tr>\n",
              "      <th>22347</th>\n",
              "      <td>2008-07-08</td>\n",
              "      <td>Tesla Taps Chrysler Executive http://tinyurl.c...</td>\n",
              "      <td>tesla tap chrysler executive</td>\n",
              "      <td>neutral</td>\n",
              "      <td>1</td>\n",
              "    </tr>\n",
              "  </tbody>\n",
              "</table>\n",
              "<p>22345 rows × 5 columns</p>\n",
              "</div>\n",
              "    <div class=\"colab-df-buttons\">\n",
              "\n",
              "  <div class=\"colab-df-container\">\n",
              "    <button class=\"colab-df-convert\" onclick=\"convertToInteractive('df-65cbd31a-16d8-46c6-ad3d-fcec593cf397')\"\n",
              "            title=\"Convert this dataframe to an interactive table.\"\n",
              "            style=\"display:none;\">\n",
              "\n",
              "  <svg xmlns=\"http://www.w3.org/2000/svg\" height=\"24px\" viewBox=\"0 -960 960 960\">\n",
              "    <path d=\"M120-120v-720h720v720H120Zm60-500h600v-160H180v160Zm220 220h160v-160H400v160Zm0 220h160v-160H400v160ZM180-400h160v-160H180v160Zm440 0h160v-160H620v160ZM180-180h160v-160H180v160Zm440 0h160v-160H620v160Z\"/>\n",
              "  </svg>\n",
              "    </button>\n",
              "\n",
              "  <style>\n",
              "    .colab-df-container {\n",
              "      display:flex;\n",
              "      gap: 12px;\n",
              "    }\n",
              "\n",
              "    .colab-df-convert {\n",
              "      background-color: #E8F0FE;\n",
              "      border: none;\n",
              "      border-radius: 50%;\n",
              "      cursor: pointer;\n",
              "      display: none;\n",
              "      fill: #1967D2;\n",
              "      height: 32px;\n",
              "      padding: 0 0 0 0;\n",
              "      width: 32px;\n",
              "    }\n",
              "\n",
              "    .colab-df-convert:hover {\n",
              "      background-color: #E2EBFA;\n",
              "      box-shadow: 0px 1px 2px rgba(60, 64, 67, 0.3), 0px 1px 3px 1px rgba(60, 64, 67, 0.15);\n",
              "      fill: #174EA6;\n",
              "    }\n",
              "\n",
              "    .colab-df-buttons div {\n",
              "      margin-bottom: 4px;\n",
              "    }\n",
              "\n",
              "    [theme=dark] .colab-df-convert {\n",
              "      background-color: #3B4455;\n",
              "      fill: #D2E3FC;\n",
              "    }\n",
              "\n",
              "    [theme=dark] .colab-df-convert:hover {\n",
              "      background-color: #434B5C;\n",
              "      box-shadow: 0px 1px 3px 1px rgba(0, 0, 0, 0.15);\n",
              "      filter: drop-shadow(0px 1px 2px rgba(0, 0, 0, 0.3));\n",
              "      fill: #FFFFFF;\n",
              "    }\n",
              "  </style>\n",
              "\n",
              "    <script>\n",
              "      const buttonEl =\n",
              "        document.querySelector('#df-65cbd31a-16d8-46c6-ad3d-fcec593cf397 button.colab-df-convert');\n",
              "      buttonEl.style.display =\n",
              "        google.colab.kernel.accessAllowed ? 'block' : 'none';\n",
              "\n",
              "      async function convertToInteractive(key) {\n",
              "        const element = document.querySelector('#df-65cbd31a-16d8-46c6-ad3d-fcec593cf397');\n",
              "        const dataTable =\n",
              "          await google.colab.kernel.invokeFunction('convertToInteractive',\n",
              "                                                    [key], {});\n",
              "        if (!dataTable) return;\n",
              "\n",
              "        const docLinkHtml = 'Like what you see? Visit the ' +\n",
              "          '<a target=\"_blank\" href=https://colab.research.google.com/notebooks/data_table.ipynb>data table notebook</a>'\n",
              "          + ' to learn more about interactive tables.';\n",
              "        element.innerHTML = '';\n",
              "        dataTable['output_type'] = 'display_data';\n",
              "        await google.colab.output.renderOutput(dataTable, element);\n",
              "        const docLink = document.createElement('div');\n",
              "        docLink.innerHTML = docLinkHtml;\n",
              "        element.appendChild(docLink);\n",
              "      }\n",
              "    </script>\n",
              "  </div>\n",
              "\n",
              "\n",
              "<div id=\"df-435d97c2-d23a-4995-a10d-80438e184122\">\n",
              "  <button class=\"colab-df-quickchart\" onclick=\"quickchart('df-435d97c2-d23a-4995-a10d-80438e184122')\"\n",
              "            title=\"Suggest charts\"\n",
              "            style=\"display:none;\">\n",
              "\n",
              "<svg xmlns=\"http://www.w3.org/2000/svg\" height=\"24px\"viewBox=\"0 0 24 24\"\n",
              "     width=\"24px\">\n",
              "    <g>\n",
              "        <path d=\"M19 3H5c-1.1 0-2 .9-2 2v14c0 1.1.9 2 2 2h14c1.1 0 2-.9 2-2V5c0-1.1-.9-2-2-2zM9 17H7v-7h2v7zm4 0h-2V7h2v10zm4 0h-2v-4h2v4z\"/>\n",
              "    </g>\n",
              "</svg>\n",
              "  </button>\n",
              "\n",
              "<style>\n",
              "  .colab-df-quickchart {\n",
              "      --bg-color: #E8F0FE;\n",
              "      --fill-color: #1967D2;\n",
              "      --hover-bg-color: #E2EBFA;\n",
              "      --hover-fill-color: #174EA6;\n",
              "      --disabled-fill-color: #AAA;\n",
              "      --disabled-bg-color: #DDD;\n",
              "  }\n",
              "\n",
              "  [theme=dark] .colab-df-quickchart {\n",
              "      --bg-color: #3B4455;\n",
              "      --fill-color: #D2E3FC;\n",
              "      --hover-bg-color: #434B5C;\n",
              "      --hover-fill-color: #FFFFFF;\n",
              "      --disabled-bg-color: #3B4455;\n",
              "      --disabled-fill-color: #666;\n",
              "  }\n",
              "\n",
              "  .colab-df-quickchart {\n",
              "    background-color: var(--bg-color);\n",
              "    border: none;\n",
              "    border-radius: 50%;\n",
              "    cursor: pointer;\n",
              "    display: none;\n",
              "    fill: var(--fill-color);\n",
              "    height: 32px;\n",
              "    padding: 0;\n",
              "    width: 32px;\n",
              "  }\n",
              "\n",
              "  .colab-df-quickchart:hover {\n",
              "    background-color: var(--hover-bg-color);\n",
              "    box-shadow: 0 1px 2px rgba(60, 64, 67, 0.3), 0 1px 3px 1px rgba(60, 64, 67, 0.15);\n",
              "    fill: var(--button-hover-fill-color);\n",
              "  }\n",
              "\n",
              "  .colab-df-quickchart-complete:disabled,\n",
              "  .colab-df-quickchart-complete:disabled:hover {\n",
              "    background-color: var(--disabled-bg-color);\n",
              "    fill: var(--disabled-fill-color);\n",
              "    box-shadow: none;\n",
              "  }\n",
              "\n",
              "  .colab-df-spinner {\n",
              "    border: 2px solid var(--fill-color);\n",
              "    border-color: transparent;\n",
              "    border-bottom-color: var(--fill-color);\n",
              "    animation:\n",
              "      spin 1s steps(1) infinite;\n",
              "  }\n",
              "\n",
              "  @keyframes spin {\n",
              "    0% {\n",
              "      border-color: transparent;\n",
              "      border-bottom-color: var(--fill-color);\n",
              "      border-left-color: var(--fill-color);\n",
              "    }\n",
              "    20% {\n",
              "      border-color: transparent;\n",
              "      border-left-color: var(--fill-color);\n",
              "      border-top-color: var(--fill-color);\n",
              "    }\n",
              "    30% {\n",
              "      border-color: transparent;\n",
              "      border-left-color: var(--fill-color);\n",
              "      border-top-color: var(--fill-color);\n",
              "      border-right-color: var(--fill-color);\n",
              "    }\n",
              "    40% {\n",
              "      border-color: transparent;\n",
              "      border-right-color: var(--fill-color);\n",
              "      border-top-color: var(--fill-color);\n",
              "    }\n",
              "    60% {\n",
              "      border-color: transparent;\n",
              "      border-right-color: var(--fill-color);\n",
              "    }\n",
              "    80% {\n",
              "      border-color: transparent;\n",
              "      border-right-color: var(--fill-color);\n",
              "      border-bottom-color: var(--fill-color);\n",
              "    }\n",
              "    90% {\n",
              "      border-color: transparent;\n",
              "      border-bottom-color: var(--fill-color);\n",
              "    }\n",
              "  }\n",
              "</style>\n",
              "\n",
              "  <script>\n",
              "    async function quickchart(key) {\n",
              "      const quickchartButtonEl =\n",
              "        document.querySelector('#' + key + ' button');\n",
              "      quickchartButtonEl.disabled = true;  // To prevent multiple clicks.\n",
              "      quickchartButtonEl.classList.add('colab-df-spinner');\n",
              "      try {\n",
              "        const charts = await google.colab.kernel.invokeFunction(\n",
              "            'suggestCharts', [key], {});\n",
              "      } catch (error) {\n",
              "        console.error('Error during call to suggestCharts:', error);\n",
              "      }\n",
              "      quickchartButtonEl.classList.remove('colab-df-spinner');\n",
              "      quickchartButtonEl.classList.add('colab-df-quickchart-complete');\n",
              "    }\n",
              "    (() => {\n",
              "      let quickchartButtonEl =\n",
              "        document.querySelector('#df-435d97c2-d23a-4995-a10d-80438e184122 button');\n",
              "      quickchartButtonEl.style.display =\n",
              "        google.colab.kernel.accessAllowed ? 'block' : 'none';\n",
              "    })();\n",
              "  </script>\n",
              "</div>\n",
              "    </div>\n",
              "  </div>\n"
            ],
            "text/plain": [
              "             Date                                              Tweet  \\\n",
              "0      2023-04-10  Tesla to open a new Megafactory in Shanghai, C...   \n",
              "1      2023-04-10  #5things: China holds military drills around T...   \n",
              "2      2023-04-09  WATCH: Tesla Chief Executive Elon Musk is maki...   \n",
              "3      2023-04-09  Tesla’s Model S and X are starting to show the...   \n",
              "4      2023-04-09  How the market’s biggest companies, from Apple...   \n",
              "...           ...                                                ...   \n",
              "22343  2010-02-17  Plane owned by Tesla engineer crashes, 3 dead ...   \n",
              "22344  2010-02-17  Plane owned by Tesla engineer crashes, 3 dead ...   \n",
              "22345  2010-01-14  Move over, Thomas Edison. Nikola Tesla, pionee...   \n",
              "22346  2009-09-15  Bloomberg News: Electric Sports-Car Maker Tesl...   \n",
              "22347  2008-07-08  Tesla Taps Chrysler Executive http://tinyurl.c...   \n",
              "\n",
              "                                         tweet_processed sentiment  label  \n",
              "0      tesla open new megafactory shanghai china comp...   neutral      1  \n",
              "1      china hold military drill around taiwan ftx co...  negative      0  \n",
              "2      watch tesla chief executive elon musk making p...   neutral      1  \n",
              "3                        tesla model x starting show age   neutral      1  \n",
              "4      market biggest company apple tesla microsoft i...   neutral      1  \n",
              "...                                                  ...       ...    ...  \n",
              "22343            plane owned tesla engineer crash 3 dead  negative      0  \n",
              "22344            plane owned tesla engineer crash 3 dead  negative      0  \n",
              "22345  move thomas edison nikola tesla pioneer altern...  positive      2  \n",
              "22346  bloomberg news electric sportscar maker tesla ...   neutral      1  \n",
              "22347                       tesla tap chrysler executive   neutral      1  \n",
              "\n",
              "[22345 rows x 5 columns]"
            ]
          },
          "execution_count": 18,
          "metadata": {},
          "output_type": "execute_result"
        }
      ],
      "source": [
        "# Change Target into Number\n",
        "\n",
        "data['label'] = data['sentiment'].replace({'negative' : 0, 'neutral' : 1, 'positive' : 2})\n",
        "data"
      ]
    },
    {
      "cell_type": "code",
      "execution_count": 19,
      "metadata": {
        "colab": {
          "base_uri": "https://localhost:8080/"
        },
        "id": "D9P613F0TIN8",
        "outputId": "22935bc3-a194-4e9f-cab7-ae2889b2cd6b"
      },
      "outputs": [
        {
          "data": {
            "text/plain": [
              "label\n",
              "1    8469\n",
              "2    7920\n",
              "0    5956\n",
              "Name: count, dtype: int64"
            ]
          },
          "execution_count": 19,
          "metadata": {},
          "output_type": "execute_result"
        }
      ],
      "source": [
        "# Target Distribution\n",
        "\n",
        "data['label'].value_counts()"
      ]
    },
    {
      "cell_type": "code",
      "execution_count": 20,
      "metadata": {
        "colab": {
          "base_uri": "https://localhost:8080/"
        },
        "id": "QCLdITMvTIN8",
        "outputId": "39274bc4-ea7a-41ec-afbc-563361865272"
      },
      "outputs": [
        {
          "name": "stdout",
          "output_type": "stream",
          "text": [
            "Train Size :  (17093,)\n",
            "Val Size   :  (1900,)\n",
            "Test Size  :  (3352,)\n"
          ]
        }
      ],
      "source": [
        "# Data Splitting\n",
        "\n",
        "X_train_val, X_test, y_train_val, y_test = train_test_split(data.tweet_processed,\n",
        "                                                    data.label,\n",
        "                                                    test_size=0.15,\n",
        "                                                    random_state=20,\n",
        "                                                    stratify=data.label)\n",
        "\n",
        "X_train, X_val, y_train, y_val = train_test_split(X_train_val,\n",
        "                                                  y_train_val,\n",
        "                                                  test_size=0.10,\n",
        "                                                  random_state=20,\n",
        "                                                  stratify=y_train_val)\n",
        "\n",
        "print('Train Size : ', X_train.shape)\n",
        "print('Val Size   : ', X_val.shape)\n",
        "print('Test Size  : ', X_test.shape)"
      ]
    },
    {
      "cell_type": "code",
      "execution_count": 21,
      "metadata": {
        "colab": {
          "base_uri": "https://localhost:8080/"
        },
        "id": "lBbg2fvQTIN9",
        "outputId": "5725110d-de16-43f7-953b-a19655a32752"
      },
      "outputs": [
        {
          "data": {
            "text/plain": [
              "array([[0., 0., 1.],\n",
              "       [0., 1., 0.],\n",
              "       [1., 0., 0.],\n",
              "       ...,\n",
              "       [0., 0., 1.],\n",
              "       [0., 0., 1.],\n",
              "       [0., 1., 0.]], dtype=float32)"
            ]
          },
          "execution_count": 21,
          "metadata": {},
          "output_type": "execute_result"
        }
      ],
      "source": [
        "# Change Target to One Hot Encoding\n",
        "\n",
        "y_train_ohe = to_categorical(y_train)\n",
        "y_val_ohe = to_categorical(y_val)\n",
        "y_test_ohe = to_categorical(y_test)\n",
        "y_train_ohe"
      ]
    },
    {
      "cell_type": "code",
      "execution_count": 22,
      "metadata": {
        "colab": {
          "base_uri": "https://localhost:8080/"
        },
        "id": "_C30paggTIN9",
        "outputId": "8c997610-e535-496f-86e4-59462b009a93"
      },
      "outputs": [
        {
          "data": {
            "text/plain": [
              "<17093x10874 sparse matrix of type '<class 'numpy.int64'>'\n",
              "\twith 189912 stored elements in Compressed Sparse Row format>"
            ]
          },
          "execution_count": 22,
          "metadata": {},
          "output_type": "execute_result"
        }
      ],
      "source": [
        "# Get Vocabularies\n",
        "\n",
        "Vectorize = CountVectorizer()\n",
        "X_train_vec = Vectorize.fit_transform(X_train)\n",
        "X_test_vec = Vectorize.transform(X_test)\n",
        "\n",
        "X_train_vec"
      ]
    },
    {
      "cell_type": "code",
      "execution_count": 23,
      "metadata": {
        "colab": {
          "base_uri": "https://localhost:8080/"
        },
        "id": "pzxn7GnBTIN-",
        "outputId": "76b60e43-140b-4761-d860-3d391ab1bfeb"
      },
      "outputs": [
        {
          "name": "stdout",
          "output_type": "stream",
          "text": [
            "Total Vocab :  10874\n",
            "Maximum Sentence Length :  33 tokens\n"
          ]
        }
      ],
      "source": [
        "# Finding the Number of Vocabs and Max Token Length in One Document\n",
        "\n",
        "total_vocab = len(Vectorize.vocabulary_.keys())\n",
        "max_sen_len = max([len(i.split(\" \")) for i in X_train])\n",
        "\n",
        "print('Total Vocab : ', total_vocab)\n",
        "print('Maximum Sentence Length : ', max_sen_len, 'tokens')"
      ]
    },
    {
      "cell_type": "code",
      "execution_count": 24,
      "metadata": {
        "id": "-N-Ij28tTIN-"
      },
      "outputs": [],
      "source": [
        "# Text Vectorization\n",
        "\n",
        "from tensorflow.keras.layers import TextVectorization\n",
        "\n",
        "text_vectorization = TextVectorization(max_tokens=total_vocab,\n",
        "                                       standardize=\"lower_and_strip_punctuation\",\n",
        "                                       split=\"whitespace\",\n",
        "                                       ngrams=None,\n",
        "                                       output_mode=\"int\",\n",
        "                                       output_sequence_length=max_sen_len,\n",
        "                                       input_shape=(1,)) # Only use in Sequential API\n",
        "\n",
        "text_vectorization.adapt(X_train)"
      ]
    },
    {
      "cell_type": "code",
      "execution_count": 25,
      "metadata": {
        "colab": {
          "base_uri": "https://localhost:8080/"
        },
        "id": "eO_lbpTFTIN_",
        "outputId": "88302a1d-7552-48c7-ee44-e016d99ba787"
      },
      "outputs": [
        {
          "name": "stdout",
          "output_type": "stream",
          "text": [
            "Document example\n",
            "tesla open new megafactory shanghai china company say\n",
            "\n",
            "Result of Text Vectorization\n",
            "tf.Tensor(\n",
            "[[   2  118   12 6256   60   15   14    7    0    0    0    0    0    0\n",
            "     0    0    0    0    0    0    0    0    0    0    0    0    0    0\n",
            "     0    0    0    0    0]], shape=(1, 33), dtype=int64)\n",
            "Vector size :  (1, 33)\n"
          ]
        }
      ],
      "source": [
        "# Example Result\n",
        "\n",
        "## Document example\n",
        "print('Document example')\n",
        "print(data.tweet_processed[0])\n",
        "print('')\n",
        "\n",
        "## Result of Text Vectorization\n",
        "print('Result of Text Vectorization')\n",
        "print(text_vectorization([data.tweet_processed[0]]))\n",
        "print('Vector size : ', text_vectorization([data.tweet_processed[0]]).shape)"
      ]
    },
    {
      "cell_type": "code",
      "execution_count": 26,
      "metadata": {
        "colab": {
          "base_uri": "https://localhost:8080/"
        },
        "id": "99QGR2TPTIN_",
        "outputId": "58a51d12-8ec1-478a-a622-6067b5aa3e11"
      },
      "outputs": [
        {
          "data": {
            "text/plain": [
              "10874"
            ]
          },
          "execution_count": 26,
          "metadata": {},
          "output_type": "execute_result"
        }
      ],
      "source": [
        "# View the Top 20 Tokens (Sorted by the Highest Frequency of Appearance)\n",
        "\n",
        "len(text_vectorization.get_vocabulary())"
      ]
    },
    {
      "cell_type": "code",
      "execution_count": 27,
      "metadata": {
        "id": "kZWlDviATIOA"
      },
      "outputs": [],
      "source": [
        "# Embedding\n",
        "\n",
        "from tensorflow.keras.layers import Embedding\n",
        "embedding = Embedding(input_dim=total_vocab,\n",
        "                      output_dim=128,\n",
        "                      embeddings_initializer=\"uniform\",\n",
        "                      input_length=max_sen_len)"
      ]
    },
    {
      "cell_type": "code",
      "execution_count": 28,
      "metadata": {
        "colab": {
          "base_uri": "https://localhost:8080/"
        },
        "id": "kxttWIJaTIOA",
        "outputId": "c07b40bb-695a-48ff-9f14-38dbcb605529"
      },
      "outputs": [
        {
          "name": "stdout",
          "output_type": "stream",
          "text": [
            "Document example\n",
            "tesla open new megafactory shanghai china company say\n",
            "\n",
            "Result of  Text Vectorization\n",
            "tf.Tensor(\n",
            "[[   2  118   12 6256   60   15   14    7    0    0    0    0    0    0\n",
            "     0    0    0    0    0    0    0    0    0    0    0    0    0    0\n",
            "     0    0    0    0    0]], shape=(1, 33), dtype=int64)\n",
            "Vector size :  (1, 33)\n",
            "\n",
            "Result of  Embedding\n",
            "tf.Tensor(\n",
            "[[[-0.01082609 -0.04655545 -0.01155856 ... -0.03870164  0.00463299\n",
            "   -0.02705722]\n",
            "  [-0.02269652 -0.03400242 -0.02800539 ...  0.00868545 -0.02995689\n",
            "   -0.04819362]\n",
            "  [ 0.0070644   0.02775035 -0.03142545 ...  0.00722623  0.02429925\n",
            "   -0.00263237]\n",
            "  ...\n",
            "  [ 0.04204569  0.01056442 -0.03349804 ... -0.03635089  0.04633674\n",
            "   -0.00026606]\n",
            "  [ 0.04204569  0.01056442 -0.03349804 ... -0.03635089  0.04633674\n",
            "   -0.00026606]\n",
            "  [ 0.04204569  0.01056442 -0.03349804 ... -0.03635089  0.04633674\n",
            "   -0.00026606]]], shape=(1, 33, 128), dtype=float32)\n",
            "Vector size :  (1, 33, 128)\n"
          ]
        }
      ],
      "source": [
        "# Example Result\n",
        "\n",
        "## Document example\n",
        "print('Document example')\n",
        "print(data.tweet_processed[0])\n",
        "print('')\n",
        "\n",
        "## Result of Text Vectorization\n",
        "print('Result of  Text Vectorization')\n",
        "print(text_vectorization([data.tweet_processed[0]]))\n",
        "print('Vector size : ', text_vectorization([data.tweet_processed[0]]).shape)\n",
        "print('')\n",
        "\n",
        "## Result of  Embedding\n",
        "print('Result of  Embedding')\n",
        "print(embedding(text_vectorization([data.tweet_processed[0]])))\n",
        "print('Vector size : ', embedding(text_vectorization([data.tweet_processed[0]])).shape)"
      ]
    },
    {
      "cell_type": "markdown",
      "metadata": {},
      "source": [
        "# 6. Model Training"
      ]
    },
    {
      "cell_type": "code",
      "execution_count": 30,
      "metadata": {
        "colab": {
          "base_uri": "https://localhost:8080/"
        },
        "id": "drenfTCzTIOC",
        "outputId": "d2a291a3-7fb8-41e4-d220-3389d0860c79"
      },
      "outputs": [
        {
          "name": "stdout",
          "output_type": "stream",
          "text": [
            "Epoch 1/50\n",
            "535/535 [==============================] - 28s 35ms/step - loss: 0.5799 - accuracy: 0.7578 - val_loss: 0.3080 - val_accuracy: 0.8963\n",
            "Epoch 2/50\n",
            "535/535 [==============================] - 9s 17ms/step - loss: 0.1726 - accuracy: 0.9460 - val_loss: 0.2654 - val_accuracy: 0.9084\n",
            "Epoch 3/50\n",
            "535/535 [==============================] - 10s 19ms/step - loss: 0.0858 - accuracy: 0.9743 - val_loss: 0.2560 - val_accuracy: 0.9084\n",
            "Epoch 4/50\n",
            "535/535 [==============================] - 6s 12ms/step - loss: 0.0601 - accuracy: 0.9825 - val_loss: 0.2724 - val_accuracy: 0.9284\n",
            "Epoch 5/50\n",
            "535/535 [==============================] - 8s 15ms/step - loss: 0.0432 - accuracy: 0.9875 - val_loss: 0.2941 - val_accuracy: 0.9189\n",
            "Epoch 6/50\n",
            "535/535 [==============================] - 7s 13ms/step - loss: 0.0338 - accuracy: 0.9896 - val_loss: 0.3246 - val_accuracy: 0.9216\n",
            "Epoch 7/50\n",
            "535/535 [==============================] - 7s 14ms/step - loss: 0.0267 - accuracy: 0.9927 - val_loss: 0.3738 - val_accuracy: 0.9247\n",
            "Epoch 8/50\n",
            "535/535 [==============================] - 8s 15ms/step - loss: 0.0186 - accuracy: 0.9949 - val_loss: 0.3774 - val_accuracy: 0.9221\n",
            "Epoch 9/50\n",
            "535/535 [==============================] - 7s 12ms/step - loss: 0.0194 - accuracy: 0.9949 - val_loss: 0.3748 - val_accuracy: 0.9111\n",
            "Epoch 10/50\n",
            "535/535 [==============================] - 8s 14ms/step - loss: 0.0168 - accuracy: 0.9953 - val_loss: 0.4036 - val_accuracy: 0.9295\n",
            "Epoch 11/50\n",
            "535/535 [==============================] - 7s 12ms/step - loss: 0.0145 - accuracy: 0.9959 - val_loss: 0.3806 - val_accuracy: 0.9284\n",
            "Epoch 12/50\n",
            "535/535 [==============================] - 8s 14ms/step - loss: 0.0081 - accuracy: 0.9982 - val_loss: 0.4135 - val_accuracy: 0.9305\n",
            "Epoch 13/50\n",
            "535/535 [==============================] - 6s 12ms/step - loss: 0.0059 - accuracy: 0.9984 - val_loss: 0.4409 - val_accuracy: 0.9289\n",
            "Epoch 14/50\n",
            "535/535 [==============================] - 8s 14ms/step - loss: 0.0073 - accuracy: 0.9979 - val_loss: 0.3986 - val_accuracy: 0.9237\n",
            "Epoch 15/50\n",
            "535/535 [==============================] - 7s 12ms/step - loss: 0.0084 - accuracy: 0.9973 - val_loss: 0.4073 - val_accuracy: 0.9342\n",
            "Epoch 16/50\n",
            "535/535 [==============================] - 7s 14ms/step - loss: 0.0091 - accuracy: 0.9975 - val_loss: 0.4043 - val_accuracy: 0.9316\n",
            "Epoch 17/50\n",
            "535/535 [==============================] - 7s 14ms/step - loss: 0.0053 - accuracy: 0.9987 - val_loss: 0.4524 - val_accuracy: 0.9311\n",
            "Epoch 18/50\n",
            "535/535 [==============================] - 7s 13ms/step - loss: 0.0034 - accuracy: 0.9990 - val_loss: 0.4844 - val_accuracy: 0.9305\n",
            "Epoch 19/50\n",
            "535/535 [==============================] - 8s 15ms/step - loss: 0.0014 - accuracy: 0.9996 - val_loss: 0.5225 - val_accuracy: 0.9321\n",
            "Epoch 20/50\n",
            "535/535 [==============================] - 7s 13ms/step - loss: 0.0017 - accuracy: 0.9996 - val_loss: 0.5022 - val_accuracy: 0.9326\n",
            "Epoch 21/50\n",
            "535/535 [==============================] - 8s 15ms/step - loss: 0.0057 - accuracy: 0.9981 - val_loss: 0.4701 - val_accuracy: 0.9289\n",
            "Epoch 22/50\n",
            "535/535 [==============================] - 7s 12ms/step - loss: 0.0083 - accuracy: 0.9978 - val_loss: 0.5034 - val_accuracy: 0.9232\n",
            "Epoch 23/50\n",
            "535/535 [==============================] - 8s 15ms/step - loss: 0.0037 - accuracy: 0.9991 - val_loss: 0.5104 - val_accuracy: 0.9284\n",
            "Epoch 24/50\n",
            "535/535 [==============================] - 7s 14ms/step - loss: 0.0018 - accuracy: 0.9996 - val_loss: 0.5320 - val_accuracy: 0.9274\n",
            "Epoch 25/50\n",
            "535/535 [==============================] - 7s 13ms/step - loss: 0.0017 - accuracy: 0.9994 - val_loss: 0.5688 - val_accuracy: 0.9263\n",
            "Epoch 26/50\n",
            "535/535 [==============================] - 8s 14ms/step - loss: 0.0019 - accuracy: 0.9993 - val_loss: 0.5621 - val_accuracy: 0.9258\n",
            "Epoch 27/50\n",
            "535/535 [==============================] - 6s 12ms/step - loss: 0.0016 - accuracy: 0.9996 - val_loss: 0.5534 - val_accuracy: 0.9305\n",
            "Epoch 28/50\n",
            "535/535 [==============================] - 8s 14ms/step - loss: 0.0016 - accuracy: 0.9996 - val_loss: 0.6185 - val_accuracy: 0.9258\n",
            "Epoch 29/50\n",
            "535/535 [==============================] - 6s 12ms/step - loss: 0.0046 - accuracy: 0.9984 - val_loss: 0.5690 - val_accuracy: 0.9326\n",
            "Epoch 30/50\n",
            "535/535 [==============================] - 9s 17ms/step - loss: 0.0026 - accuracy: 0.9992 - val_loss: 0.6139 - val_accuracy: 0.9232\n",
            "Epoch 31/50\n",
            "535/535 [==============================] - 7s 12ms/step - loss: 0.0010 - accuracy: 0.9998 - val_loss: 0.6143 - val_accuracy: 0.9284\n",
            "Epoch 32/50\n",
            "535/535 [==============================] - 8s 14ms/step - loss: 0.0011 - accuracy: 0.9998 - val_loss: 0.6080 - val_accuracy: 0.9295\n",
            "Epoch 33/50\n",
            "535/535 [==============================] - 7s 13ms/step - loss: 0.0029 - accuracy: 0.9995 - val_loss: 0.6220 - val_accuracy: 0.9300\n",
            "Epoch 34/50\n",
            "535/535 [==============================] - 7s 13ms/step - loss: 8.2782e-04 - accuracy: 0.9998 - val_loss: 0.6131 - val_accuracy: 0.9295\n",
            "Epoch 35/50\n",
            "535/535 [==============================] - 7s 13ms/step - loss: 0.0018 - accuracy: 0.9998 - val_loss: 0.6095 - val_accuracy: 0.9279\n",
            "Epoch 36/50\n",
            "535/535 [==============================] - 7s 13ms/step - loss: 0.0015 - accuracy: 0.9995 - val_loss: 0.5508 - val_accuracy: 0.9289\n",
            "Epoch 37/50\n",
            "535/535 [==============================] - 8s 14ms/step - loss: 3.9055e-04 - accuracy: 0.9998 - val_loss: 0.5910 - val_accuracy: 0.9268\n",
            "Epoch 38/50\n",
            "535/535 [==============================] - 7s 12ms/step - loss: 7.1275e-05 - accuracy: 1.0000 - val_loss: 0.6167 - val_accuracy: 0.9258\n",
            "Epoch 39/50\n",
            "535/535 [==============================] - 8s 14ms/step - loss: 4.4596e-05 - accuracy: 1.0000 - val_loss: 0.6331 - val_accuracy: 0.9258\n",
            "Epoch 40/50\n",
            "535/535 [==============================] - 7s 12ms/step - loss: 3.0512e-05 - accuracy: 1.0000 - val_loss: 0.6483 - val_accuracy: 0.9279\n",
            "Epoch 41/50\n",
            "535/535 [==============================] - 8s 14ms/step - loss: 2.6716e-05 - accuracy: 1.0000 - val_loss: 0.6579 - val_accuracy: 0.9284\n",
            "Epoch 42/50\n",
            "535/535 [==============================] - 7s 12ms/step - loss: 0.0023 - accuracy: 0.9993 - val_loss: 0.5793 - val_accuracy: 0.9268\n",
            "Epoch 43/50\n",
            "535/535 [==============================] - 8s 14ms/step - loss: 0.0059 - accuracy: 0.9985 - val_loss: 0.5448 - val_accuracy: 0.9253\n",
            "Epoch 44/50\n",
            "535/535 [==============================] - 7s 13ms/step - loss: 0.0018 - accuracy: 0.9996 - val_loss: 0.5766 - val_accuracy: 0.9274\n",
            "Epoch 45/50\n",
            "535/535 [==============================] - 7s 14ms/step - loss: 7.0334e-04 - accuracy: 0.9998 - val_loss: 0.5684 - val_accuracy: 0.9311\n",
            "Epoch 46/50\n",
            "535/535 [==============================] - 8s 14ms/step - loss: 4.3203e-04 - accuracy: 0.9999 - val_loss: 0.5790 - val_accuracy: 0.9289\n",
            "Epoch 47/50\n",
            "535/535 [==============================] - 6s 12ms/step - loss: 1.0549e-04 - accuracy: 1.0000 - val_loss: 0.5875 - val_accuracy: 0.9300\n",
            "Epoch 48/50\n",
            "535/535 [==============================] - 7s 14ms/step - loss: 4.7245e-05 - accuracy: 1.0000 - val_loss: 0.5973 - val_accuracy: 0.9305\n",
            "Epoch 49/50\n",
            "535/535 [==============================] - 7s 12ms/step - loss: 3.3044e-05 - accuracy: 1.0000 - val_loss: 0.6147 - val_accuracy: 0.9295\n",
            "Epoch 50/50\n",
            "535/535 [==============================] - 7s 14ms/step - loss: 2.8324e-05 - accuracy: 1.0000 - val_loss: 0.6305 - val_accuracy: 0.9295\n"
          ]
        }
      ],
      "source": [
        "# Model Training using LSTM\n",
        "\n",
        "from tensorflow.keras.models import Sequential\n",
        "from tensorflow.keras.layers import Dense, LSTM, Bidirectional, GRU, Dropout, Reshape\n",
        "\n",
        "## Clear Session\n",
        "seed = 20\n",
        "tf.keras.backend.clear_session()\n",
        "np.random.seed(seed)\n",
        "tf.random.set_seed(seed)\n",
        "\n",
        "## Define the architecture\n",
        "model_lstm_1 = Sequential()\n",
        "model_lstm_1.add(text_vectorization)\n",
        "model_lstm_1.add(embedding)\n",
        "model_lstm_1.add(Bidirectional(LSTM(32, return_sequences=True, kernel_initializer=tf.keras.initializers.GlorotUniform(seed))))\n",
        "model_lstm_1.add(Dropout(0.1))\n",
        "model_lstm_1.add(Bidirectional(LSTM(16, kernel_initializer=tf.keras.initializers.GlorotUniform(seed))))\n",
        "model_lstm_1.add(Dropout(0.1))\n",
        "model_lstm_1.add(Dense(3, activation='softmax'))\n",
        "\n",
        "model_lstm_1.compile(loss='categorical_crossentropy', optimizer='adam', metrics=['accuracy'])\n",
        "\n",
        "model_lstm_1_hist = model_lstm_1.fit(X_train, y_train_ohe, epochs=50, validation_data=(X_val, y_val_ohe))"
      ]
    },
    {
      "cell_type": "markdown",
      "metadata": {},
      "source": [
        "# 6. Model Evaluation"
      ]
    },
    {
      "cell_type": "code",
      "execution_count": 31,
      "metadata": {
        "colab": {
          "base_uri": "https://localhost:8080/",
          "height": 425
        },
        "id": "go8KTO7SXA9B",
        "outputId": "cdd6692e-5712-43b4-8b92-cdfdeb2de914"
      },
      "outputs": [
        {
          "data": {
            "image/png": "[encoded data removed]",
            "text/plain": [
              "<Figure size 1500x500 with 2 Axes>"
            ]
          },
          "metadata": {},
          "output_type": "display_data"
        }
      ],
      "source": [
        "# Plot Training Results\n",
        "\n",
        "model_lstm_1_hist_df = pd.DataFrame(model_lstm_1_hist.history)\n",
        "\n",
        "plt.figure(figsize=(15, 5))\n",
        "plt.subplot(1, 2, 1)\n",
        "sns.lineplot(data=model_lstm_1_hist_df[['accuracy', 'val_accuracy']])\n",
        "plt.grid()\n",
        "plt.title('Accuracy vs Val-Accuracy')\n",
        "\n",
        "plt.subplot(1, 2, 2)\n",
        "sns.lineplot(data=model_lstm_1_hist_df[['loss', 'val_loss']])\n",
        "plt.grid()\n",
        "plt.title('Loss vs Val-Loss')\n",
        "plt.show()"
      ]
    },
    {
      "cell_type": "markdown",
      "metadata": {},
      "source": [
        "# 7. Model Saving"
      ]
    },
    {
      "cell_type": "code",
      "execution_count": 37,
      "metadata": {
        "id": "uug2z9Mo0e8i"
      },
      "outputs": [],
      "source": [
        "model_lstm_1.save('model.keras')"
      ]
    },
    {
      "cell_type": "markdown",
      "metadata": {},
      "source": [
        "# 8. Model Inference"
      ]
    },
    {
      "cell_type": "code",
      "execution_count": 79,
      "metadata": {
        "colab": {
          "base_uri": "https://localhost:8080/"
        },
        "id": "zOXwtnOr8FzT",
        "outputId": "eadb7ebf-25c8-484d-b2d9-91e2c64c2135"
      },
      "outputs": [
        {
          "name": "stderr",
          "output_type": "stream",
          "text": [
            "WARNING:tensorflow:5 out of the last 5 calls to <function Model.make_predict_function.<locals>.predict_function at 0x78e1c1d40dc0> triggered tf.function retracing. Tracing is expensive and the excessive number of tracings could be due to (1) creating @tf.function repeatedly in a loop, (2) passing tensors with different shapes, (3) passing Python objects instead of tensors. For (1), please define your @tf.function outside of the loop. For (2), @tf.function has reduce_retracing=True option that can avoid unnecessary retracing. For (3), please refer to https://www.tensorflow.org/guide/function#controlling_retracing and https://www.tensorflow.org/api_docs/python/tf/function for  more details.\n"
          ]
        },
        {
          "name": "stdout",
          "output_type": "stream",
          "text": [
            "1/1 [==============================] - 1s 1s/step\n",
            "[1]\n"
          ]
        }
      ],
      "source": [
        "from keras.models import load_model\n",
        "\n",
        "# Load the saved model\n",
        "model = load_model('model.keras')\n",
        "\n",
        "# Prepare the input data as a numpy array\n",
        "input_data = np.array(['Tesla']) # replace with your input data\n",
        "\n",
        "# Make predictions using the model\n",
        "predictions = model.predict(input_data)\n",
        "\n",
        "# Convert the predictions to labels\n",
        "labels = np.argmax(predictions, axis=1)\n",
        "\n",
        "# Print the labels\n",
        "print(labels)"
      ]
    },
    {
      "cell_type": "code",
      "execution_count": 81,
      "metadata": {
        "colab": {
          "base_uri": "https://localhost:8080/"
        },
        "id": "GruFaFroC_nL",
        "outputId": "206cac33-b9dc-4bc1-b8fe-d664a9ca29cc"
      },
      "outputs": [
        {
          "name": "stdout",
          "output_type": "stream",
          "text": [
            "1/1 [==============================] - 1s 1s/step\n",
            "['negative']\n"
          ]
        }
      ],
      "source": [
        "from keras.models import load_model\n",
        "\n",
        "# Define your category mapping\n",
        "label_mapping = {\n",
        "    0: 'negative',\n",
        "    1: 'neutral',\n",
        "    2: 'positive'\n",
        "}\n",
        "\n",
        "# Load the saved model\n",
        "model = load_model('model.keras')\n",
        "\n",
        "# Prepare the input data as a numpy array\n",
        "input_data = np.array(['Tesla is fucking good as fuck go to hell you byd']) # replace with your input data\n",
        "\n",
        "# Make predictions using the model\n",
        "predictions = model.predict(input_data)\n",
        "\n",
        "# Convert the predictions to labels\n",
        "labels = np.argmax(predictions, axis=1)\n",
        "\n",
        "# Map labels to categories\n",
        "predicted_categories = [label_mapping[label] for label in labels]\n",
        "\n",
        "# Print the predicted categories\n",
        "print(predicted_categories)\n"
      ]
    }
  ],
  "metadata": {
    "accelerator": "GPU",
    "colab": {
      "gpuType": "T4",
      "provenance": []
    },
    "kernelspec": {
      "display_name": "Python 3",
      "name": "python3"
    },
    "language_info": {
      "codemirror_mode": {
        "name": "ipython",
        "version": 3
      },
      "file_extension": ".py",
      "mimetype": "text/x-python",
      "name": "python",
      "nbconvert_exporter": "python",
      "pygments_lexer": "ipython3",
      "version": "3.9.18"
    }
  },
  "nbformat": 4,
  "nbformat_minor": 0
}
