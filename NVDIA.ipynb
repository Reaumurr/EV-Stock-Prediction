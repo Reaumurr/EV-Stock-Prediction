{
 "cells": [
  {
   "cell_type": "code",
   "execution_count": 1,
   "metadata": {},
   "outputs": [
    {
     "name": "stderr",
     "output_type": "stream",
     "text": [
      "[*********************100%%**********************]  1 of 1 completed\n",
      "c:\\Users\\Fadhil\\miniconda3\\lib\\site-packages\\statsmodels\\tsa\\base\\tsa_model.py:473: ValueWarning: A date index has been provided, but it has no associated frequency information and so will be ignored when e.g. forecasting.\n",
      "  self._init_dates(dates, freq)\n",
      "c:\\Users\\Fadhil\\miniconda3\\lib\\site-packages\\statsmodels\\tsa\\base\\tsa_model.py:473: ValueWarning: A date index has been provided, but it has no associated frequency information and so will be ignored when e.g. forecasting.\n",
      "  self._init_dates(dates, freq)\n"
     ]
    },
    {
     "name": "stdout",
     "output_type": "stream",
     "text": [
      "Forecasted Close Prices for Nvidia for the Next 30 Days:\n",
      "109    1209.506937\n",
      "110    1208.105887\n",
      "111    1210.217846\n",
      "112    1219.267943\n",
      "113    1235.972356\n",
      "114    1243.381578\n",
      "115    1241.798197\n",
      "116    1254.047843\n",
      "117    1272.949208\n",
      "118    1262.567910\n",
      "119    1273.464564\n",
      "120    1287.685086\n",
      "121    1288.207439\n",
      "122    1287.390533\n",
      "123    1289.754576\n",
      "124    1298.982914\n",
      "125    1315.744048\n",
      "126    1323.217314\n",
      "127    1321.713197\n",
      "128    1334.005622\n",
      "129    1352.885582\n",
      "130    1342.487353\n",
      "131    1353.339916\n",
      "132    1367.591173\n",
      "133    1368.115964\n",
      "134    1367.300478\n",
      "135    1369.665260\n",
      "136    1378.894058\n",
      "137    1395.655414\n",
      "138    1403.128838\n",
      "Name: predicted_mean, dtype: float64\n"
     ]
    },
    {
     "name": "stderr",
     "output_type": "stream",
     "text": [
      "c:\\Users\\Fadhil\\miniconda3\\lib\\site-packages\\statsmodels\\tsa\\base\\tsa_model.py:836: ValueWarning: No supported index is available. Prediction results will be given with an integer index beginning at `start`.\n",
      "  return get_prediction_index(\n",
      "c:\\Users\\Fadhil\\miniconda3\\lib\\site-packages\\statsmodels\\tsa\\base\\tsa_model.py:836: FutureWarning: No supported index is available. In the next version, calling this method in a model without a supported index will result in an exception.\n",
      "  return get_prediction_index(\n"
     ]
    }
   ],
   "source": [
    "import pandas as pd\n",
    "import yfinance as yf\n",
    "from statsmodels.tsa.statespace.sarimax import SARIMAX\n",
    "import joblib\n",
    "\n",
    "# Function to download stock data\n",
    "def get_stock_data(ticker, start_date, end_date):\n",
    "    stock_data = yf.download(ticker, start=start_date, end=end_date)\n",
    "    return stock_data\n",
    "\n",
    "# Load Nvidia stock data\n",
    "start_date = '2024-01-01'  # Adjust start date accordingly\n",
    "end_date = pd.Timestamp.now().strftime('%Y-%m-%d')  # Use current date as end date\n",
    "nvidia_stock_data = get_stock_data('NVDA', start_date, end_date)\n",
    "\n",
    "# Train SARIMA model\n",
    "order = (1, 1, 1)  # Example order parameters\n",
    "seasonal_order = (1, 1, 1, 12)  # Example seasonal order parameters\n",
    "sarima_model = SARIMAX(nvidia_stock_data['Close'], order=order, seasonal_order=seasonal_order, enforce_stationarity=False)\n",
    "sarima_results = sarima_model.fit()\n",
    "\n",
    "# Save the SARIMA model\n",
    "joblib.dump(sarima_results, 'SARIMAX_model_NVDA.pkl')\n",
    "\n",
    "# Forecast the close price for the next period (example: 30 days)\n",
    "forecast_steps = 30\n",
    "nvidia_forecast = sarima_results.forecast(steps=forecast_steps)\n",
    "\n",
    "# Print the forecasted close prices\n",
    "print(\"Forecasted Close Prices for Nvidia for the Next 30 Days:\")\n",
    "print(nvidia_forecast)\n"
   ]
  },
  {
   "cell_type": "code",
   "execution_count": 2,
   "metadata": {},
   "outputs": [
    {
     "name": "stdout",
     "output_type": "stream",
     "text": [
      "Mean Squared Error (MSE): 109603.2762370077\n",
      "Root Mean Squared Error (RMSE): 331.06385522585776\n",
      "R-squared (R²): -6.813910267208245\n"
     ]
    }
   ],
   "source": [
    "from sklearn.metrics import mean_squared_error, r2_score\n",
    "import numpy as np\n",
    "\n",
    "# Ambil nilai aktual untuk periode prediksi\n",
    "actual_values = nvidia_stock_data['Close'].values[-forecast_steps:]\n",
    "\n",
    "# Hitung Mean Squared Error (MSE) dan Root Mean Squared Error (RMSE)\n",
    "mse = mean_squared_error(actual_values, nvidia_forecast)\n",
    "rmse = np.sqrt(mse)\n",
    "\n",
    "# Hitung koefisien determinasi (R²)\n",
    "r2 = r2_score(actual_values, nvidia_forecast)\n",
    "\n",
    "# Cetak metrik evaluasi\n",
    "print(\"Mean Squared Error (MSE):\", mse)\n",
    "print(\"Root Mean Squared Error (RMSE):\", rmse)\n",
    "print(\"R-squared (R²):\", r2)\n"
   ]
  }
 ],
 "metadata": {
  "kernelspec": {
   "display_name": "base",
   "language": "python",
   "name": "python3"
  },
  "language_info": {
   "codemirror_mode": {
    "name": "ipython",
    "version": 3
   },
   "file_extension": ".py",
   "mimetype": "text/x-python",
   "name": "python",
   "nbconvert_exporter": "python",
   "pygments_lexer": "ipython3",
   "version": "3.9.18"
  }
 },
 "nbformat": 4,
 "nbformat_minor": 2
}
