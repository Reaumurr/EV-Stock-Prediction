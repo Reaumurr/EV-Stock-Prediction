{
 "cells": [
  {
   "cell_type": "code",
   "execution_count": 1,
   "metadata": {},
   "outputs": [
    {
     "name": "stderr",
     "output_type": "stream",
     "text": [
      "[*********************100%%**********************]  1 of 1 completed\n",
      "c:\\Users\\Fadhil\\miniconda3\\lib\\site-packages\\statsmodels\\tsa\\base\\tsa_model.py:473: ValueWarning: A date index has been provided, but it has no associated frequency information and so will be ignored when e.g. forecasting.\n",
      "  self._init_dates(dates, freq)\n",
      "c:\\Users\\Fadhil\\miniconda3\\lib\\site-packages\\statsmodels\\tsa\\base\\tsa_model.py:473: ValueWarning: A date index has been provided, but it has no associated frequency information and so will be ignored when e.g. forecasting.\n",
      "  self._init_dates(dates, freq)\n",
      "c:\\Users\\Fadhil\\miniconda3\\lib\\site-packages\\statsmodels\\tsa\\statespace\\sarimax.py:978: UserWarning: Non-invertible starting MA parameters found. Using zeros as starting parameters.\n",
      "  warn('Non-invertible starting MA parameters found.'\n"
     ]
    },
    {
     "name": "stdout",
     "output_type": "stream",
     "text": [
      "Forecasted Close Prices for the Next 30 Days:\n",
      "109    4.889780\n",
      "110    4.934450\n",
      "111    4.798808\n",
      "112    4.771391\n",
      "113    4.734292\n",
      "114    4.642131\n",
      "115    4.779375\n",
      "116    4.985017\n",
      "117    4.816832\n",
      "118    4.749296\n",
      "119    4.845984\n",
      "120    4.895666\n",
      "121    4.918329\n",
      "122    4.930459\n",
      "123    4.681637\n",
      "124    4.673982\n",
      "125    4.679874\n",
      "126    4.634708\n",
      "127    4.901907\n",
      "128    5.023380\n",
      "129    4.901316\n",
      "130    4.809407\n",
      "131    4.891815\n",
      "132    4.781851\n",
      "133    4.787808\n",
      "134    4.812616\n",
      "135    4.607896\n",
      "136    4.592541\n",
      "137    4.581680\n",
      "138    4.518202\n",
      "Name: predicted_mean, dtype: float64\n"
     ]
    },
    {
     "name": "stderr",
     "output_type": "stream",
     "text": [
      "c:\\Users\\Fadhil\\miniconda3\\lib\\site-packages\\statsmodels\\tsa\\base\\tsa_model.py:836: ValueWarning: No supported index is available. Prediction results will be given with an integer index beginning at `start`.\n",
      "  return get_prediction_index(\n",
      "c:\\Users\\Fadhil\\miniconda3\\lib\\site-packages\\statsmodels\\tsa\\base\\tsa_model.py:836: FutureWarning: No supported index is available. In the next version, calling this method in a model without a supported index will result in an exception.\n",
      "  return get_prediction_index(\n"
     ]
    }
   ],
   "source": [
    "import pandas as pd\n",
    "import yfinance as yf\n",
    "from statsmodels.tsa.statespace.sarimax import SARIMAX\n",
    "import joblib\n",
    "from sklearn.metrics import mean_squared_error\n",
    "import numpy as np\n",
    "\n",
    "# Function to download stock data\n",
    "def get_stock_data(ticker, start_date, end_date):\n",
    "    stock_data = yf.download(ticker, start=start_date, end=end_date)\n",
    "    return stock_data\n",
    "\n",
    "# Load NIO stock data\n",
    "start_date = '2024-01-01'  # Adjust start date accordingly\n",
    "end_date = pd.Timestamp.now().strftime('%Y-%m-%d')  # Use current date as end date\n",
    "nio_stock_data = get_stock_data('NIO', start_date, end_date)\n",
    "\n",
    "# Train SARIMA model\n",
    "order = (1, 1, 1)  # Example order parameters\n",
    "seasonal_order = (1, 1, 1, 12)  # Example seasonal order parameters\n",
    "sarima_model = SARIMAX(nio_stock_data['Close'], order=order, seasonal_order=seasonal_order, enforce_stationarity=False)\n",
    "sarima_results = sarima_model.fit()\n",
    "\n",
    "# Save the SARIMA model\n",
    "joblib.dump(sarima_results, 'SARIMAX_model_NIO.pkl')\n",
    "\n",
    "# Forecast the close price for the next period (example: 30 days)\n",
    "forecast_steps = 30\n",
    "nio_forecast = sarima_results.forecast(steps=forecast_steps)\n",
    "\n",
    "# Print the forecasted close prices\n",
    "print(\"Forecasted Close Prices for the Next 30 Days:\")\n",
    "print(nio_forecast)\n"
   ]
  },
  {
   "cell_type": "code",
   "execution_count": 2,
   "metadata": {},
   "outputs": [
    {
     "name": "stdout",
     "output_type": "stream",
     "text": [
      "Mean Squared Error (MSE): 0.29972452248298637\n",
      "Root Mean Squared Error (RMSE): 0.5474710243318694\n",
      "R-squared (R²): -1.2849787292086532\n"
     ]
    }
   ],
   "source": [
    "from sklearn.metrics import mean_squared_error, r2_score\n",
    "import numpy as np\n",
    "\n",
    "# Ambil nilai aktual untuk periode prediksi\n",
    "actual_values = nio_stock_data['Close'].values[-forecast_steps:]\n",
    "\n",
    "# Hitung Mean Squared Error (MSE) dan Root Mean Squared Error (RMSE)\n",
    "mse = mean_squared_error(actual_values, nio_forecast)\n",
    "rmse = np.sqrt(mse)\n",
    "\n",
    "# Hitung koefisien determinasi (R²)\n",
    "r2 = r2_score(actual_values, nio_forecast)\n",
    "\n",
    "# Cetak metrik evaluasi\n",
    "print(\"Mean Squared Error (MSE):\", mse)\n",
    "print(\"Root Mean Squared Error (RMSE):\", rmse)\n",
    "print(\"R-squared (R²):\", r2)\n"
   ]
  }
 ],
 "metadata": {
  "kernelspec": {
   "display_name": "base",
   "language": "python",
   "name": "python3"
  },
  "language_info": {
   "codemirror_mode": {
    "name": "ipython",
    "version": 3
   },
   "file_extension": ".py",
   "mimetype": "text/x-python",
   "name": "python",
   "nbconvert_exporter": "python",
   "pygments_lexer": "ipython3",
   "version": "3.9.18"
  }
 },
 "nbformat": 4,
 "nbformat_minor": 2
}
