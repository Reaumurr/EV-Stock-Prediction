{
 "cells": [
  {
   "cell_type": "code",
   "execution_count": 1,
   "metadata": {},
   "outputs": [
    {
     "name": "stderr",
     "output_type": "stream",
     "text": [
      "[*********************100%%**********************]  1 of 1 completed\n",
      "c:\\Users\\Fadhil\\miniconda3\\lib\\site-packages\\statsmodels\\tsa\\base\\tsa_model.py:473: ValueWarning: A date index has been provided, but it has no associated frequency information and so will be ignored when e.g. forecasting.\n",
      "  self._init_dates(dates, freq)\n",
      "c:\\Users\\Fadhil\\miniconda3\\lib\\site-packages\\statsmodels\\tsa\\base\\tsa_model.py:473: ValueWarning: A date index has been provided, but it has no associated frequency information and so will be ignored when e.g. forecasting.\n",
      "  self._init_dates(dates, freq)\n",
      "c:\\Users\\Fadhil\\miniconda3\\lib\\site-packages\\statsmodels\\tsa\\statespace\\sarimax.py:978: UserWarning: Non-invertible starting MA parameters found. Using zeros as starting parameters.\n",
      "  warn('Non-invertible starting MA parameters found.'\n"
     ]
    },
    {
     "name": "stdout",
     "output_type": "stream",
     "text": [
      "Forecasted Close Prices for Tesla for the Next 30 Days:\n",
      "108    172.656696\n",
      "109    173.613947\n",
      "110    170.333092\n",
      "111    170.036257\n",
      "112    167.547571\n",
      "113    165.818640\n",
      "114    167.982987\n",
      "115    169.756751\n",
      "116    167.153417\n",
      "117    169.954034\n",
      "118    167.855924\n",
      "119    166.496453\n",
      "120    164.783759\n",
      "121    165.234267\n",
      "122    162.360172\n",
      "123    161.736973\n",
      "124    159.510268\n",
      "125    157.570775\n",
      "126    159.904319\n",
      "127    161.542255\n",
      "128    159.047913\n",
      "129    161.761105\n",
      "130    159.733301\n",
      "131    158.317305\n",
      "132    156.649982\n",
      "133    157.064056\n",
      "134    154.219219\n",
      "135    153.572525\n",
      "136    151.364687\n",
      "137    149.410042\n",
      "Name: predicted_mean, dtype: float64\n"
     ]
    },
    {
     "name": "stderr",
     "output_type": "stream",
     "text": [
      "c:\\Users\\Fadhil\\miniconda3\\lib\\site-packages\\statsmodels\\tsa\\base\\tsa_model.py:836: ValueWarning: No supported index is available. Prediction results will be given with an integer index beginning at `start`.\n",
      "  return get_prediction_index(\n",
      "c:\\Users\\Fadhil\\miniconda3\\lib\\site-packages\\statsmodels\\tsa\\base\\tsa_model.py:836: FutureWarning: No supported index is available. In the next version, calling this method in a model without a supported index will result in an exception.\n",
      "  return get_prediction_index(\n"
     ]
    }
   ],
   "source": [
    "import pandas as pd\n",
    "import yfinance as yf\n",
    "from statsmodels.tsa.statespace.sarimax import SARIMAX\n",
    "import joblib\n",
    "\n",
    "# Function to download stock data\n",
    "def get_stock_data(ticker, start_date, end_date):\n",
    "    stock_data = yf.download(ticker, start=start_date, end=end_date)\n",
    "    return stock_data\n",
    "\n",
    "# Load Tesla stock data\n",
    "start_date = '2024-01-01'  # Adjust start date accordingly\n",
    "end_date = pd.Timestamp.now().strftime('%Y-%m-%d')  # Use current date as end date\n",
    "tesla_stock_data = get_stock_data('TSLA', start_date, end_date)\n",
    "\n",
    "# Train SARIMA model\n",
    "order = (1, 1, 1)  # Example order parameters\n",
    "seasonal_order = (1, 1, 1, 12)  # Example seasonal order parameters\n",
    "sarima_model = SARIMAX(tesla_stock_data['Close'], order=order, seasonal_order=seasonal_order, enforce_stationarity=False)\n",
    "sarima_results = sarima_model.fit()\n",
    "\n",
    "# Save the SARIMA model\n",
    "joblib.dump(sarima_results, 'SARIMAX_model_TSLA.pkl')\n",
    "\n",
    "# Forecast the close price for the next period (example: 30 days)\n",
    "forecast_steps = 30\n",
    "tesla_forecast = sarima_results.forecast(steps=forecast_steps)\n",
    "\n",
    "# Print the forecasted close prices\n",
    "print(\"Forecasted Close Prices for Tesla for the Next 30 Days:\")\n",
    "print(tesla_forecast)\n"
   ]
  }
 ],
 "metadata": {
  "kernelspec": {
   "display_name": "base",
   "language": "python",
   "name": "python3"
  },
  "language_info": {
   "codemirror_mode": {
    "name": "ipython",
    "version": 3
   },
   "file_extension": ".py",
   "mimetype": "text/x-python",
   "name": "python",
   "nbconvert_exporter": "python",
   "pygments_lexer": "ipython3",
   "version": "3.9.18"
  }
 },
 "nbformat": 4,
 "nbformat_minor": 2
}
